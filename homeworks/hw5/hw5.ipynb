{
 "cells": [
  {
   "cell_type": "markdown",
   "id": "e10ad753",
   "metadata": {},
   "source": [
    "# Homework 5"
   ]
  },
  {
   "cell_type": "code",
   "execution_count": 1,
   "id": "86b3c051",
   "metadata": {},
   "outputs": [],
   "source": [
    "import os\n",
    "import pandas as pd\n",
    "import numpy as np\n",
    "import matplotlib.pyplot as plt"
   ]
  },
  {
   "cell_type": "markdown",
   "id": "4f270468",
   "metadata": {},
   "source": [
    "a) (30 points) Start by cleaning up the dataset to get it into a form where we can apply statistical\n",
    "learning methods to predict our dependent variable of interest. Please briefly describe each\n",
    "step that you took to clean and process the data. Here are some suggestions:"
   ]
  },
  {
   "cell_type": "code",
   "execution_count": 2,
   "id": "83e2f8c5",
   "metadata": {},
   "outputs": [
    {
     "name": "stdout",
     "output_type": "stream",
     "text": [
      "Collecting package metadata (current_repodata.json): done\n",
      "Solving environment: done\n",
      "\n",
      "# All requested packages already installed.\n",
      "\n",
      "\n",
      "Note: you may need to restart the kernel to use updated packages.\n"
     ]
    }
   ],
   "source": [
    "conda install beautifulsoup4"
   ]
  },
  {
   "cell_type": "code",
   "execution_count": 3,
   "id": "8b8220f3",
   "metadata": {},
   "outputs": [],
   "source": [
    "from bs4 import BeautifulSoup"
   ]
  },
  {
   "cell_type": "code",
   "execution_count": 4,
   "id": "8c9782e0",
   "metadata": {},
   "outputs": [],
   "source": [
    "test = pd.read_csv(\"stack_stats_2020_test.csv\")\n",
    "train = pd.read_csv(\"stack_stats_2020_train.csv\")"
   ]
  },
  {
   "cell_type": "code",
   "execution_count": 5,
   "id": "1316a46c",
   "metadata": {},
   "outputs": [
    {
     "name": "stdout",
     "output_type": "stream",
     "text": [
      "<class 'pandas.core.frame.DataFrame'>\n",
      "RangeIndex: 8249 entries, 0 to 8248\n",
      "Data columns (total 5 columns):\n",
      " #   Column  Non-Null Count  Dtype \n",
      "---  ------  --------------  ----- \n",
      " 0   Id      8249 non-null   int64 \n",
      " 1   Score   8249 non-null   int64 \n",
      " 2   Body    8249 non-null   object\n",
      " 3   Title   8249 non-null   object\n",
      " 4   Tags    8249 non-null   object\n",
      "dtypes: int64(2), object(3)\n",
      "memory usage: 322.4+ KB\n"
     ]
    },
    {
     "data": {
      "text/html": [
       "<div>\n",
       "<style scoped>\n",
       "    .dataframe tbody tr th:only-of-type {\n",
       "        vertical-align: middle;\n",
       "    }\n",
       "\n",
       "    .dataframe tbody tr th {\n",
       "        vertical-align: top;\n",
       "    }\n",
       "\n",
       "    .dataframe thead th {\n",
       "        text-align: right;\n",
       "    }\n",
       "</style>\n",
       "<table border=\"1\" class=\"dataframe\">\n",
       "  <thead>\n",
       "    <tr style=\"text-align: right;\">\n",
       "      <th></th>\n",
       "      <th>Id</th>\n",
       "      <th>Score</th>\n",
       "      <th>Body</th>\n",
       "      <th>Title</th>\n",
       "      <th>Tags</th>\n",
       "    </tr>\n",
       "  </thead>\n",
       "  <tbody>\n",
       "    <tr>\n",
       "      <th>0</th>\n",
       "      <td>476132</td>\n",
       "      <td>0</td>\n",
       "      <td>&lt;p&gt;&lt;strong&gt;Summarize the problem&lt;/strong&gt;&lt;/p&gt;\\...</td>\n",
       "      <td>What I do with the results extracted from lasso?</td>\n",
       "      <td>&lt;stata&gt;&lt;lasso&gt;</td>\n",
       "    </tr>\n",
       "    <tr>\n",
       "      <th>1</th>\n",
       "      <td>450811</td>\n",
       "      <td>0</td>\n",
       "      <td>&lt;p&gt;I try to calculate the marginal likelihood ...</td>\n",
       "      <td>the marginal likelihood of analytical result i...</td>\n",
       "      <td>&lt;sampling&gt;&lt;marginal-distribution&gt;&lt;rstan&gt;</td>\n",
       "    </tr>\n",
       "    <tr>\n",
       "      <th>2</th>\n",
       "      <td>472876</td>\n",
       "      <td>1</td>\n",
       "      <td>&lt;p&gt;I have a data set which involves 30 binomia...</td>\n",
       "      <td>GLMER Overdispersion and Error messages</td>\n",
       "      <td>&lt;lme4-nlme&gt;&lt;glmm&gt;&lt;eigenvalues&gt;&lt;overdispersion&gt;</td>\n",
       "    </tr>\n",
       "    <tr>\n",
       "      <th>3</th>\n",
       "      <td>470799</td>\n",
       "      <td>1</td>\n",
       "      <td>&lt;p&gt;It is well known that the K-means algorithm...</td>\n",
       "      <td>K-medoids: Is there any constraint about the c...</td>\n",
       "      <td>&lt;clustering&gt;&lt;k-medoids&gt;</td>\n",
       "    </tr>\n",
       "    <tr>\n",
       "      <th>4</th>\n",
       "      <td>446472</td>\n",
       "      <td>2</td>\n",
       "      <td>&lt;p&gt;I'm working on a text classification proble...</td>\n",
       "      <td>Combining XGBoost and LightGBM</td>\n",
       "      <td>&lt;python&gt;&lt;boosting&gt;</td>\n",
       "    </tr>\n",
       "  </tbody>\n",
       "</table>\n",
       "</div>"
      ],
      "text/plain": [
       "       Id  Score                                               Body  \\\n",
       "0  476132      0  <p><strong>Summarize the problem</strong></p>\\...   \n",
       "1  450811      0  <p>I try to calculate the marginal likelihood ...   \n",
       "2  472876      1  <p>I have a data set which involves 30 binomia...   \n",
       "3  470799      1  <p>It is well known that the K-means algorithm...   \n",
       "4  446472      2  <p>I'm working on a text classification proble...   \n",
       "\n",
       "                                               Title  \\\n",
       "0   What I do with the results extracted from lasso?   \n",
       "1  the marginal likelihood of analytical result i...   \n",
       "2            GLMER Overdispersion and Error messages   \n",
       "3  K-medoids: Is there any constraint about the c...   \n",
       "4                     Combining XGBoost and LightGBM   \n",
       "\n",
       "                                             Tags  \n",
       "0                                  <stata><lasso>  \n",
       "1        <sampling><marginal-distribution><rstan>  \n",
       "2  <lme4-nlme><glmm><eigenvalues><overdispersion>  \n",
       "3                         <clustering><k-medoids>  \n",
       "4                              <python><boosting>  "
      ]
     },
     "execution_count": 5,
     "metadata": {},
     "output_type": "execute_result"
    }
   ],
   "source": [
    "test.info()\n",
    "test.head()"
   ]
  },
  {
   "cell_type": "code",
   "execution_count": 6,
   "id": "de1741fd",
   "metadata": {},
   "outputs": [
    {
     "name": "stdout",
     "output_type": "stream",
     "text": [
      "<class 'pandas.core.frame.DataFrame'>\n",
      "RangeIndex: 19247 entries, 0 to 19246\n",
      "Data columns (total 5 columns):\n",
      " #   Column  Non-Null Count  Dtype \n",
      "---  ------  --------------  ----- \n",
      " 0   Id      19247 non-null  int64 \n",
      " 1   Score   19247 non-null  int64 \n",
      " 2   Body    19247 non-null  object\n",
      " 3   Title   19247 non-null  object\n",
      " 4   Tags    19247 non-null  object\n",
      "dtypes: int64(2), object(3)\n",
      "memory usage: 752.0+ KB\n"
     ]
    },
    {
     "data": {
      "text/html": [
       "<div>\n",
       "<style scoped>\n",
       "    .dataframe tbody tr th:only-of-type {\n",
       "        vertical-align: middle;\n",
       "    }\n",
       "\n",
       "    .dataframe tbody tr th {\n",
       "        vertical-align: top;\n",
       "    }\n",
       "\n",
       "    .dataframe thead th {\n",
       "        text-align: right;\n",
       "    }\n",
       "</style>\n",
       "<table border=\"1\" class=\"dataframe\">\n",
       "  <thead>\n",
       "    <tr style=\"text-align: right;\">\n",
       "      <th></th>\n",
       "      <th>Id</th>\n",
       "      <th>Score</th>\n",
       "      <th>Body</th>\n",
       "      <th>Title</th>\n",
       "      <th>Tags</th>\n",
       "    </tr>\n",
       "  </thead>\n",
       "  <tbody>\n",
       "    <tr>\n",
       "      <th>0</th>\n",
       "      <td>495560</td>\n",
       "      <td>1</td>\n",
       "      <td>&lt;p&gt;I have a set of data that I am transforming...</td>\n",
       "      <td>R: emmeans back tranform clr data using clrInv</td>\n",
       "      <td>&lt;r&gt;&lt;mixed-model&gt;&lt;linear&gt;&lt;lsmeans&gt;</td>\n",
       "    </tr>\n",
       "    <tr>\n",
       "      <th>1</th>\n",
       "      <td>489896</td>\n",
       "      <td>0</td>\n",
       "      <td>&lt;p&gt;We are sending a one bit message to someone...</td>\n",
       "      <td>Trying to determine the failure rate of redund...</td>\n",
       "      <td>&lt;probability&gt;&lt;python&gt;</td>\n",
       "    </tr>\n",
       "    <tr>\n",
       "      <th>2</th>\n",
       "      <td>497951</td>\n",
       "      <td>2</td>\n",
       "      <td>&lt;p&gt;I am aware that there is a similar post: &lt;a...</td>\n",
       "      <td>How to derive categorical cross entropy update...</td>\n",
       "      <td>&lt;logistic&gt;&lt;cross-entropy&gt;</td>\n",
       "    </tr>\n",
       "    <tr>\n",
       "      <th>3</th>\n",
       "      <td>478542</td>\n",
       "      <td>2</td>\n",
       "      <td>&lt;p&gt;I have a Poisson distributed glm where I ha...</td>\n",
       "      <td>Learning more about glm parameters, how to dig...</td>\n",
       "      <td>&lt;generalized-linear-model&gt;&lt;interpretation&gt;</td>\n",
       "    </tr>\n",
       "    <tr>\n",
       "      <th>4</th>\n",
       "      <td>458388</td>\n",
       "      <td>0</td>\n",
       "      <td>&lt;p&gt;1) how do i decide which transformation or ...</td>\n",
       "      <td>Is there I guide to decide which transformatio...</td>\n",
       "      <td>&lt;python&gt;&lt;data-transformation&gt;&lt;dataset&gt;&lt;feature...</td>\n",
       "    </tr>\n",
       "  </tbody>\n",
       "</table>\n",
       "</div>"
      ],
      "text/plain": [
       "       Id  Score                                               Body  \\\n",
       "0  495560      1  <p>I have a set of data that I am transforming...   \n",
       "1  489896      0  <p>We are sending a one bit message to someone...   \n",
       "2  497951      2  <p>I am aware that there is a similar post: <a...   \n",
       "3  478542      2  <p>I have a Poisson distributed glm where I ha...   \n",
       "4  458388      0  <p>1) how do i decide which transformation or ...   \n",
       "\n",
       "                                               Title  \\\n",
       "0     R: emmeans back tranform clr data using clrInv   \n",
       "1  Trying to determine the failure rate of redund...   \n",
       "2  How to derive categorical cross entropy update...   \n",
       "3  Learning more about glm parameters, how to dig...   \n",
       "4  Is there I guide to decide which transformatio...   \n",
       "\n",
       "                                                Tags  \n",
       "0                  <r><mixed-model><linear><lsmeans>  \n",
       "1                              <probability><python>  \n",
       "2                          <logistic><cross-entropy>  \n",
       "3         <generalized-linear-model><interpretation>  \n",
       "4  <python><data-transformation><dataset><feature...  "
      ]
     },
     "execution_count": 6,
     "metadata": {},
     "output_type": "execute_result"
    }
   ],
   "source": [
    "train.info()\n",
    "train.head()"
   ]
  },
  {
   "cell_type": "code",
   "execution_count": 7,
   "id": "beadf02b",
   "metadata": {},
   "outputs": [],
   "source": [
    "# drop NaN values as they obstruct LDA model since it doesn't let SVD converge\n",
    "test = test[~test.isin([np.nan, np.inf, -np.inf]).any(1)]\n",
    "train = train[~train.isin([np.nan, np.inf, -np.inf]).any(1)]"
   ]
  },
  {
   "cell_type": "markdown",
   "id": "e4007634",
   "metadata": {},
   "source": [
    "ii ) When converting html texts that include multiple lines of texts to plain texts using get_text() from BeautifulSoup, the output texts still contain one type of html string, \\n or the linebreak character. In other words, get_text() does not remove the linebreak characters. You will need to remove them using a proper method of your choice."
   ]
  },
  {
   "cell_type": "code",
   "execution_count": 8,
   "id": "a1d88883",
   "metadata": {},
   "outputs": [],
   "source": [
    "train_body = train['Body'].apply(lambda x: BeautifulSoup(x, \"html.parser\").get_text())\n",
    "train_title = train['Title'].apply(lambda x: BeautifulSoup(x, \"html.parser\").get_text())"
   ]
  },
  {
   "cell_type": "code",
   "execution_count": 9,
   "id": "2a750fcc",
   "metadata": {},
   "outputs": [],
   "source": [
    "test_body = test['Body'].apply(lambda x: BeautifulSoup(x, \"html.parser\").get_text())\n",
    "test_title = test['Title'].apply(lambda x: BeautifulSoup(x, \"html.parser\").get_text())"
   ]
  },
  {
   "cell_type": "code",
   "execution_count": 10,
   "id": "bc921fe8",
   "metadata": {},
   "outputs": [
    {
     "data": {
      "text/plain": [
       "0        I have a set of data that I am transforming us...\n",
       "1        We are sending a one bit message to someone.  ...\n",
       "2        I am aware that there is a similar post: Vecto...\n",
       "3        I have a Poisson distributed glm where I have ...\n",
       "4        1) how do i decide which transformation or sca...\n",
       "                               ...                        \n",
       "19242    I'm currently trying to implement a decision t...\n",
       "19243    What are the available tools (results) that ca...\n",
       "19244    Let $X^n=(X_1,X_2,...,X_n)$ denote a sample wh...\n",
       "19245    I have a data set of property sales where info...\n",
       "19246    I have data from a human subject experiment wi...\n",
       "Name: Body, Length: 19247, dtype: object"
      ]
     },
     "execution_count": 10,
     "metadata": {},
     "output_type": "execute_result"
    }
   ],
   "source": [
    "train_body"
   ]
  },
  {
   "cell_type": "code",
   "execution_count": 11,
   "id": "4651bad2",
   "metadata": {},
   "outputs": [
    {
     "data": {
      "text/plain": [
       "0       Summarize the problem\\nI have a dataset with p...\n",
       "1       I try to calculate the marginal likelihood of ...\n",
       "2       I have a data set which involves 30 binomial a...\n",
       "3       It is well known that the K-means algorithm is...\n",
       "4       I'm working on a text classification problem a...\n",
       "                              ...                        \n",
       "8244    My data is of the form $(x,y)\\in\\mathbb{R}^{20...\n",
       "8245    I noticed the term ANOVA used in many contexts...\n",
       "8246    I'm trying to do logistic regression, but I ca...\n",
       "8247    Consider the following experimental design wit...\n",
       "8248    I am constructing different configurations of ...\n",
       "Name: Body, Length: 8249, dtype: object"
      ]
     },
     "execution_count": 11,
     "metadata": {},
     "output_type": "execute_result"
    }
   ],
   "source": [
    "test_body"
   ]
  },
  {
   "cell_type": "code",
   "execution_count": 12,
   "id": "4425fd88",
   "metadata": {},
   "outputs": [],
   "source": [
    "train_body = train_body.apply(lambda x: x.replace(\"\\n\", \" \"))\n",
    "train_title = train_title.apply(lambda x: x.replace(\"\\n\", \" \"))"
   ]
  },
  {
   "cell_type": "code",
   "execution_count": 13,
   "id": "7aab7aeb",
   "metadata": {},
   "outputs": [],
   "source": [
    "test_body = test_body.apply(lambda x: x.replace(\"\\n\", \" \"))\n",
    "test_title = test_title.apply(lambda x: x.replace(\"\\n\", \" \"))"
   ]
  },
  {
   "cell_type": "code",
   "execution_count": 14,
   "id": "e695a8de",
   "metadata": {},
   "outputs": [
    {
     "data": {
      "text/plain": [
       "'I have a set of data that I am transforming using the clr function library(compositions) clr(my_data)  Now I used lmer to build mixed effect linear models and I am extracting the estimated means and the contrasts using emmeans. I am aware of the options that can be used to back-transform the data e.g.   model.rg <- update(ref_grid(model), tran =  \"asin.sqrt\")   emm1<-emmeans(model.rg, specs = ~ drug:age:time, type = \"response\")  However, I cannot figure out how to back-transform the data CLR transformed. Any idea how could I achieve the back-transformation within emmeans? Thank you '"
      ]
     },
     "execution_count": 14,
     "metadata": {},
     "output_type": "execute_result"
    }
   ],
   "source": [
    "train_body[0]"
   ]
  },
  {
   "cell_type": "code",
   "execution_count": 15,
   "id": "fc41abcf",
   "metadata": {},
   "outputs": [
    {
     "data": {
      "text/plain": [
       "'Summarize the problem I have a dataset with panel data and I am trying to make variable selection. I have tried lasso technique. Lasso proposed me a list of variables that could be included in the model. What I do not understand is how should I use them. For example in stata I run the following : lasso lpsa lcavol lweight age lbph svi lcp gleason pgg45 lassocoef  Lasso lists for me a number of variables lcavol lweight svi What would I expect When I try to run a regression using the model lpsa~lcavol +lweight+svi to receive results demonstrating that lcavol, lweight and svi are significant predictors of lpsa. regress lpsa lcavol lweight svi   Can you help me understand what tests should I do with the variables selected by lasso in order to ensure that the model is suitable? '"
      ]
     },
     "execution_count": 15,
     "metadata": {},
     "output_type": "execute_result"
    }
   ],
   "source": [
    "test_body[0]"
   ]
  },
  {
   "cell_type": "markdown",
   "id": "28a1f755",
   "metadata": {},
   "source": [
    "iii ) You should also inspect several texts from Body, Tags and Title to see if there is any\n",
    "other transformation needed. You may need to write a custom transformation function."
   ]
  },
  {
   "cell_type": "code",
   "execution_count": 16,
   "id": "8e4d70a8",
   "metadata": {},
   "outputs": [],
   "source": [
    "train_tags = train[\"Tags\"]\n",
    "test_tags = test[\"Tags\"]"
   ]
  },
  {
   "cell_type": "code",
   "execution_count": 17,
   "id": "ccb6f0b4",
   "metadata": {},
   "outputs": [],
   "source": [
    "# lowercase train\n",
    "train_body = train_body.str.lower()\n",
    "train_title = train_title.str.lower()\n",
    "train_tags = train_tags.str.lower()\n",
    "# lowercase test\n",
    "test_body = test_body.str.lower()\n",
    "test_title = test_title.str.lower()\n",
    "test_tags = test_tags.str.lower()"
   ]
  },
  {
   "cell_type": "code",
   "execution_count": 18,
   "id": "d181fe6b",
   "metadata": {},
   "outputs": [],
   "source": [
    "from string import punctuation\n",
    "\n",
    "def no_punc(document):\n",
    "\n",
    "    no_punct = ''.join([character for character in document if character not in punctuation])\n",
    "    \n",
    "    return no_punct"
   ]
  },
  {
   "cell_type": "code",
   "execution_count": 19,
   "id": "3d481c3a",
   "metadata": {},
   "outputs": [],
   "source": [
    "train_body = train_body.apply(no_punc)\n",
    "train_title = train_title.apply(no_punc)\n",
    "train_tags = train_tags.apply(no_punc)\n",
    "\n",
    "test_body = test_body.apply(no_punc)\n",
    "test_title = test_title.apply(no_punc)\n",
    "test_tags = test_tags.apply(no_punc)"
   ]
  },
  {
   "cell_type": "code",
   "execution_count": 20,
   "id": "89c3c03d",
   "metadata": {},
   "outputs": [
    {
     "data": {
      "text/plain": [
       "0        i have a set of data that i am transforming us...\n",
       "1        we are sending a one bit message to someone  t...\n",
       "2        i am aware that there is a similar post vector...\n",
       "3        i have a poisson distributed glm where i have ...\n",
       "4        1 how do i decide which transformation or scal...\n",
       "                               ...                        \n",
       "19242    im currently trying to implement a decision tr...\n",
       "19243    what are the available tools results that can ...\n",
       "19244    let xnx1x2xn denote a sample where  1 ximathbf...\n",
       "19245    i have a data set of property sales where info...\n",
       "19246    i have data from a human subject experiment wi...\n",
       "Name: Body, Length: 19247, dtype: object"
      ]
     },
     "execution_count": 20,
     "metadata": {},
     "output_type": "execute_result"
    }
   ],
   "source": [
    "train_body"
   ]
  },
  {
   "cell_type": "code",
   "execution_count": 21,
   "id": "8250f5ae",
   "metadata": {},
   "outputs": [
    {
     "data": {
      "text/plain": [
       "0            r emmeans back tranform clr data using clrinv\n",
       "1        trying to determine the failure rate of redund...\n",
       "2        how to derive categorical cross entropy update...\n",
       "3        learning more about glm parameters how to dig ...\n",
       "4        is there i guide to decide which transformatio...\n",
       "                               ...                        \n",
       "19242    how does decision tree classify tuple whose co...\n",
       "19243    what are the available tools results that can ...\n",
       "19244       maximum likelihood estimator for censored data\n",
       "19245    can you use a single missingness indicator for...\n",
       "19246    what is the appropriate nonparametric test for...\n",
       "Name: Title, Length: 19247, dtype: object"
      ]
     },
     "execution_count": 21,
     "metadata": {},
     "output_type": "execute_result"
    }
   ],
   "source": [
    "train_title"
   ]
  },
  {
   "cell_type": "markdown",
   "id": "aac34162",
   "metadata": {},
   "source": [
    "iv ) Once you have all texts in plain texts, you can use the Python library nltk to do text\n",
    "cleaning and generate document term matrices as we did in Lab."
   ]
  },
  {
   "cell_type": "code",
   "execution_count": 22,
   "id": "35f49772",
   "metadata": {},
   "outputs": [
    {
     "name": "stderr",
     "output_type": "stream",
     "text": [
      "[nltk_data] Downloading package punkt to\n",
      "[nltk_data]     /Users/wonshilraypark/nltk_data...\n",
      "[nltk_data]   Package punkt is already up-to-date!\n"
     ]
    },
    {
     "data": {
      "text/plain": [
       "True"
      ]
     },
     "execution_count": 22,
     "metadata": {},
     "output_type": "execute_result"
    }
   ],
   "source": [
    "import nltk\n",
    "nltk.download('punkt')"
   ]
  },
  {
   "cell_type": "code",
   "execution_count": 23,
   "id": "5e8885e9",
   "metadata": {},
   "outputs": [],
   "source": [
    "from nltk.tokenize import word_tokenize\n",
    "\n",
    "train_body = train_body.apply(word_tokenize)\n",
    "train_title = train_title.apply(word_tokenize)\n",
    "train_tags = train_tags.apply(word_tokenize)\n",
    "\n",
    "test_body = test_body.apply(word_tokenize)\n",
    "test_title = test_title.apply(word_tokenize)\n",
    "test_tags = test_tags.apply(word_tokenize)"
   ]
  },
  {
   "cell_type": "code",
   "execution_count": 24,
   "id": "208824ae",
   "metadata": {},
   "outputs": [
    {
     "data": {
      "text/plain": [
       "0    [summarize, the, problem, i, have, a, dataset,...\n",
       "1    [i, try, to, calculate, the, marginal, likelih...\n",
       "2    [i, have, a, data, set, which, involves, 30, b...\n",
       "3    [it, is, well, known, that, the, kmeans, algor...\n",
       "4    [im, working, on, a, text, classification, pro...\n",
       "Name: Body, dtype: object"
      ]
     },
     "execution_count": 24,
     "metadata": {},
     "output_type": "execute_result"
    }
   ],
   "source": [
    "test_body.head()"
   ]
  },
  {
   "cell_type": "code",
   "execution_count": 25,
   "id": "a1088956",
   "metadata": {},
   "outputs": [
    {
     "name": "stderr",
     "output_type": "stream",
     "text": [
      "[nltk_data] Downloading package stopwords to\n",
      "[nltk_data]     /Users/wonshilraypark/nltk_data...\n",
      "[nltk_data]   Package stopwords is already up-to-date!\n"
     ]
    },
    {
     "data": {
      "text/plain": [
       "{'a',\n",
       " 'about',\n",
       " 'above',\n",
       " 'after',\n",
       " 'again',\n",
       " 'against',\n",
       " 'ain',\n",
       " 'all',\n",
       " 'am',\n",
       " 'an',\n",
       " 'and',\n",
       " 'any',\n",
       " 'are',\n",
       " 'aren',\n",
       " \"aren't\",\n",
       " 'as',\n",
       " 'at',\n",
       " 'be',\n",
       " 'because',\n",
       " 'been',\n",
       " 'before',\n",
       " 'being',\n",
       " 'below',\n",
       " 'between',\n",
       " 'both',\n",
       " 'but',\n",
       " 'by',\n",
       " 'can',\n",
       " 'couldn',\n",
       " \"couldn't\",\n",
       " 'd',\n",
       " 'did',\n",
       " 'didn',\n",
       " \"didn't\",\n",
       " 'do',\n",
       " 'does',\n",
       " 'doesn',\n",
       " \"doesn't\",\n",
       " 'doing',\n",
       " 'don',\n",
       " \"don't\",\n",
       " 'down',\n",
       " 'during',\n",
       " 'each',\n",
       " 'few',\n",
       " 'for',\n",
       " 'from',\n",
       " 'further',\n",
       " 'had',\n",
       " 'hadn',\n",
       " \"hadn't\",\n",
       " 'has',\n",
       " 'hasn',\n",
       " \"hasn't\",\n",
       " 'have',\n",
       " 'haven',\n",
       " \"haven't\",\n",
       " 'having',\n",
       " 'he',\n",
       " 'her',\n",
       " 'here',\n",
       " 'hers',\n",
       " 'herself',\n",
       " 'him',\n",
       " 'himself',\n",
       " 'his',\n",
       " 'how',\n",
       " 'i',\n",
       " 'if',\n",
       " 'in',\n",
       " 'into',\n",
       " 'is',\n",
       " 'isn',\n",
       " \"isn't\",\n",
       " 'it',\n",
       " \"it's\",\n",
       " 'its',\n",
       " 'itself',\n",
       " 'just',\n",
       " 'll',\n",
       " 'm',\n",
       " 'ma',\n",
       " 'me',\n",
       " 'mightn',\n",
       " \"mightn't\",\n",
       " 'more',\n",
       " 'most',\n",
       " 'mustn',\n",
       " \"mustn't\",\n",
       " 'my',\n",
       " 'myself',\n",
       " 'needn',\n",
       " \"needn't\",\n",
       " 'no',\n",
       " 'nor',\n",
       " 'not',\n",
       " 'now',\n",
       " 'o',\n",
       " 'of',\n",
       " 'off',\n",
       " 'on',\n",
       " 'once',\n",
       " 'only',\n",
       " 'or',\n",
       " 'other',\n",
       " 'our',\n",
       " 'ours',\n",
       " 'ourselves',\n",
       " 'out',\n",
       " 'over',\n",
       " 'own',\n",
       " 're',\n",
       " 's',\n",
       " 'same',\n",
       " 'shan',\n",
       " \"shan't\",\n",
       " 'she',\n",
       " \"she's\",\n",
       " 'should',\n",
       " \"should've\",\n",
       " 'shouldn',\n",
       " \"shouldn't\",\n",
       " 'so',\n",
       " 'some',\n",
       " 'such',\n",
       " 't',\n",
       " 'than',\n",
       " 'that',\n",
       " \"that'll\",\n",
       " 'the',\n",
       " 'their',\n",
       " 'theirs',\n",
       " 'them',\n",
       " 'themselves',\n",
       " 'then',\n",
       " 'there',\n",
       " 'these',\n",
       " 'they',\n",
       " 'this',\n",
       " 'those',\n",
       " 'through',\n",
       " 'to',\n",
       " 'too',\n",
       " 'under',\n",
       " 'until',\n",
       " 'up',\n",
       " 've',\n",
       " 'very',\n",
       " 'was',\n",
       " 'wasn',\n",
       " \"wasn't\",\n",
       " 'we',\n",
       " 'were',\n",
       " 'weren',\n",
       " \"weren't\",\n",
       " 'what',\n",
       " 'when',\n",
       " 'where',\n",
       " 'which',\n",
       " 'while',\n",
       " 'who',\n",
       " 'whom',\n",
       " 'why',\n",
       " 'will',\n",
       " 'with',\n",
       " 'won',\n",
       " \"won't\",\n",
       " 'wouldn',\n",
       " \"wouldn't\",\n",
       " 'y',\n",
       " 'you',\n",
       " \"you'd\",\n",
       " \"you'll\",\n",
       " \"you're\",\n",
       " \"you've\",\n",
       " 'your',\n",
       " 'yours',\n",
       " 'yourself',\n",
       " 'yourselves'}"
      ]
     },
     "execution_count": 25,
     "metadata": {},
     "output_type": "execute_result"
    }
   ],
   "source": [
    "import nltk\n",
    "nltk.download('stopwords')\n",
    "from nltk.corpus import stopwords\n",
    "\n",
    "stop_words = set(stopwords.words('english'))\n",
    "stop_words"
   ]
  },
  {
   "cell_type": "code",
   "execution_count": 26,
   "id": "f9139645",
   "metadata": {},
   "outputs": [],
   "source": [
    "def remove_stopwords(document):\n",
    "    \n",
    "    words = [word for word in document if not word in stop_words]\n",
    "    \n",
    "    return words"
   ]
  },
  {
   "cell_type": "code",
   "execution_count": 27,
   "id": "ec68e64c",
   "metadata": {},
   "outputs": [],
   "source": [
    "train_body = train_body.apply(remove_stopwords)\n",
    "train_title = train_title.apply(remove_stopwords)\n",
    "train_tags = train_tags.apply(remove_stopwords)\n",
    "\n",
    "test_body = test_body.apply(remove_stopwords)\n",
    "test_title = test_title.apply(remove_stopwords)\n",
    "test_tags = test_tags.apply(remove_stopwords)"
   ]
  },
  {
   "cell_type": "code",
   "execution_count": 28,
   "id": "d9f68fd2",
   "metadata": {},
   "outputs": [],
   "source": [
    "from nltk.stem import PorterStemmer\n",
    "\n",
    "porter = PorterStemmer()\n",
    "\n",
    "def stemmer(document):\n",
    "    \n",
    "    stemmed_document = [porter.stem(word) for word in document]\n",
    "    \n",
    "    return stemmed_document"
   ]
  },
  {
   "cell_type": "code",
   "execution_count": 29,
   "id": "a10d3548",
   "metadata": {},
   "outputs": [],
   "source": [
    "train_body = train_body.apply(stemmer)\n",
    "train_title = train_title.apply(stemmer)\n",
    "train_tags = train_tags.apply(stemmer)\n",
    "\n",
    "test_body = test_body.apply(stemmer)\n",
    "test_title = test_title.apply(stemmer)\n",
    "test_tags = test_tags.apply(stemmer)"
   ]
  },
  {
   "cell_type": "code",
   "execution_count": 30,
   "id": "2e26e10f",
   "metadata": {},
   "outputs": [],
   "source": [
    "from nltk.tokenize.treebank import TreebankWordDetokenizer\n",
    "\n",
    "train_body = train_body.apply(TreebankWordDetokenizer().detokenize)\n",
    "train_title = train_title.apply(TreebankWordDetokenizer().detokenize)\n",
    "train_tags = train_tags.apply(TreebankWordDetokenizer().detokenize)\n",
    "\n",
    "test_body = test_body.apply(TreebankWordDetokenizer().detokenize)\n",
    "test_title = test_title.apply(TreebankWordDetokenizer().detokenize)\n",
    "test_tags = test_tags.apply(TreebankWordDetokenizer().detokenize)"
   ]
  },
  {
   "cell_type": "code",
   "execution_count": 31,
   "id": "2ca3c945",
   "metadata": {},
   "outputs": [],
   "source": [
    "from sklearn.feature_extraction.text import CountVectorizer\n",
    "# shorten length of countvect so add_suffix runs without any problems.\n",
    "countvec = CountVectorizer(min_df = 0.005)\n",
    "# instead of splitting the data, I used 3 countvec instead for each pair in test & train set\n",
    "train_body = countvec.fit_transform(train_body)"
   ]
  },
  {
   "cell_type": "code",
   "execution_count": 32,
   "id": "298738ae",
   "metadata": {},
   "outputs": [
    {
     "data": {
      "text/html": [
       "<div>\n",
       "<style scoped>\n",
       "    .dataframe tbody tr th:only-of-type {\n",
       "        vertical-align: middle;\n",
       "    }\n",
       "\n",
       "    .dataframe tbody tr th {\n",
       "        vertical-align: top;\n",
       "    }\n",
       "\n",
       "    .dataframe thead th {\n",
       "        text-align: right;\n",
       "    }\n",
       "</style>\n",
       "<table border=\"1\" class=\"dataframe\">\n",
       "  <thead>\n",
       "    <tr style=\"text-align: right;\">\n",
       "      <th></th>\n",
       "      <th>00</th>\n",
       "      <th>000</th>\n",
       "      <th>0001</th>\n",
       "      <th>001</th>\n",
       "      <th>005</th>\n",
       "      <th>01</th>\n",
       "      <th>02</th>\n",
       "      <th>03</th>\n",
       "      <th>04</th>\n",
       "      <th>05</th>\n",
       "      <th>...</th>\n",
       "      <th>y1</th>\n",
       "      <th>y2</th>\n",
       "      <th>ye</th>\n",
       "      <th>year</th>\n",
       "      <th>yet</th>\n",
       "      <th>yi</th>\n",
       "      <th>yield</th>\n",
       "      <th>yt</th>\n",
       "      <th>ytrain</th>\n",
       "      <th>zero</th>\n",
       "    </tr>\n",
       "  </thead>\n",
       "  <tbody>\n",
       "    <tr>\n",
       "      <th>0</th>\n",
       "      <td>0</td>\n",
       "      <td>0</td>\n",
       "      <td>0</td>\n",
       "      <td>0</td>\n",
       "      <td>0</td>\n",
       "      <td>0</td>\n",
       "      <td>0</td>\n",
       "      <td>0</td>\n",
       "      <td>0</td>\n",
       "      <td>0</td>\n",
       "      <td>...</td>\n",
       "      <td>0</td>\n",
       "      <td>0</td>\n",
       "      <td>0</td>\n",
       "      <td>0</td>\n",
       "      <td>0</td>\n",
       "      <td>0</td>\n",
       "      <td>0</td>\n",
       "      <td>0</td>\n",
       "      <td>0</td>\n",
       "      <td>0</td>\n",
       "    </tr>\n",
       "    <tr>\n",
       "      <th>1</th>\n",
       "      <td>0</td>\n",
       "      <td>0</td>\n",
       "      <td>0</td>\n",
       "      <td>0</td>\n",
       "      <td>1</td>\n",
       "      <td>0</td>\n",
       "      <td>0</td>\n",
       "      <td>0</td>\n",
       "      <td>0</td>\n",
       "      <td>0</td>\n",
       "      <td>...</td>\n",
       "      <td>0</td>\n",
       "      <td>0</td>\n",
       "      <td>0</td>\n",
       "      <td>0</td>\n",
       "      <td>0</td>\n",
       "      <td>0</td>\n",
       "      <td>0</td>\n",
       "      <td>0</td>\n",
       "      <td>0</td>\n",
       "      <td>0</td>\n",
       "    </tr>\n",
       "    <tr>\n",
       "      <th>2</th>\n",
       "      <td>0</td>\n",
       "      <td>0</td>\n",
       "      <td>0</td>\n",
       "      <td>0</td>\n",
       "      <td>0</td>\n",
       "      <td>0</td>\n",
       "      <td>0</td>\n",
       "      <td>0</td>\n",
       "      <td>0</td>\n",
       "      <td>0</td>\n",
       "      <td>...</td>\n",
       "      <td>0</td>\n",
       "      <td>0</td>\n",
       "      <td>0</td>\n",
       "      <td>0</td>\n",
       "      <td>1</td>\n",
       "      <td>0</td>\n",
       "      <td>0</td>\n",
       "      <td>0</td>\n",
       "      <td>0</td>\n",
       "      <td>0</td>\n",
       "    </tr>\n",
       "    <tr>\n",
       "      <th>3</th>\n",
       "      <td>0</td>\n",
       "      <td>0</td>\n",
       "      <td>0</td>\n",
       "      <td>0</td>\n",
       "      <td>0</td>\n",
       "      <td>0</td>\n",
       "      <td>0</td>\n",
       "      <td>0</td>\n",
       "      <td>0</td>\n",
       "      <td>0</td>\n",
       "      <td>...</td>\n",
       "      <td>0</td>\n",
       "      <td>0</td>\n",
       "      <td>0</td>\n",
       "      <td>0</td>\n",
       "      <td>0</td>\n",
       "      <td>0</td>\n",
       "      <td>0</td>\n",
       "      <td>0</td>\n",
       "      <td>0</td>\n",
       "      <td>0</td>\n",
       "    </tr>\n",
       "    <tr>\n",
       "      <th>4</th>\n",
       "      <td>0</td>\n",
       "      <td>0</td>\n",
       "      <td>0</td>\n",
       "      <td>0</td>\n",
       "      <td>0</td>\n",
       "      <td>0</td>\n",
       "      <td>0</td>\n",
       "      <td>0</td>\n",
       "      <td>0</td>\n",
       "      <td>0</td>\n",
       "      <td>...</td>\n",
       "      <td>0</td>\n",
       "      <td>0</td>\n",
       "      <td>0</td>\n",
       "      <td>0</td>\n",
       "      <td>0</td>\n",
       "      <td>0</td>\n",
       "      <td>0</td>\n",
       "      <td>0</td>\n",
       "      <td>0</td>\n",
       "      <td>0</td>\n",
       "    </tr>\n",
       "    <tr>\n",
       "      <th>...</th>\n",
       "      <td>...</td>\n",
       "      <td>...</td>\n",
       "      <td>...</td>\n",
       "      <td>...</td>\n",
       "      <td>...</td>\n",
       "      <td>...</td>\n",
       "      <td>...</td>\n",
       "      <td>...</td>\n",
       "      <td>...</td>\n",
       "      <td>...</td>\n",
       "      <td>...</td>\n",
       "      <td>...</td>\n",
       "      <td>...</td>\n",
       "      <td>...</td>\n",
       "      <td>...</td>\n",
       "      <td>...</td>\n",
       "      <td>...</td>\n",
       "      <td>...</td>\n",
       "      <td>...</td>\n",
       "      <td>...</td>\n",
       "      <td>...</td>\n",
       "    </tr>\n",
       "    <tr>\n",
       "      <th>19242</th>\n",
       "      <td>0</td>\n",
       "      <td>0</td>\n",
       "      <td>0</td>\n",
       "      <td>0</td>\n",
       "      <td>0</td>\n",
       "      <td>0</td>\n",
       "      <td>0</td>\n",
       "      <td>0</td>\n",
       "      <td>0</td>\n",
       "      <td>0</td>\n",
       "      <td>...</td>\n",
       "      <td>0</td>\n",
       "      <td>0</td>\n",
       "      <td>0</td>\n",
       "      <td>0</td>\n",
       "      <td>0</td>\n",
       "      <td>0</td>\n",
       "      <td>0</td>\n",
       "      <td>0</td>\n",
       "      <td>0</td>\n",
       "      <td>0</td>\n",
       "    </tr>\n",
       "    <tr>\n",
       "      <th>19243</th>\n",
       "      <td>0</td>\n",
       "      <td>0</td>\n",
       "      <td>0</td>\n",
       "      <td>0</td>\n",
       "      <td>0</td>\n",
       "      <td>0</td>\n",
       "      <td>0</td>\n",
       "      <td>0</td>\n",
       "      <td>0</td>\n",
       "      <td>0</td>\n",
       "      <td>...</td>\n",
       "      <td>0</td>\n",
       "      <td>0</td>\n",
       "      <td>0</td>\n",
       "      <td>0</td>\n",
       "      <td>0</td>\n",
       "      <td>0</td>\n",
       "      <td>0</td>\n",
       "      <td>0</td>\n",
       "      <td>0</td>\n",
       "      <td>1</td>\n",
       "    </tr>\n",
       "    <tr>\n",
       "      <th>19244</th>\n",
       "      <td>0</td>\n",
       "      <td>0</td>\n",
       "      <td>0</td>\n",
       "      <td>0</td>\n",
       "      <td>0</td>\n",
       "      <td>1</td>\n",
       "      <td>0</td>\n",
       "      <td>0</td>\n",
       "      <td>0</td>\n",
       "      <td>0</td>\n",
       "      <td>...</td>\n",
       "      <td>0</td>\n",
       "      <td>0</td>\n",
       "      <td>0</td>\n",
       "      <td>0</td>\n",
       "      <td>0</td>\n",
       "      <td>0</td>\n",
       "      <td>0</td>\n",
       "      <td>0</td>\n",
       "      <td>0</td>\n",
       "      <td>0</td>\n",
       "    </tr>\n",
       "    <tr>\n",
       "      <th>19245</th>\n",
       "      <td>0</td>\n",
       "      <td>0</td>\n",
       "      <td>0</td>\n",
       "      <td>0</td>\n",
       "      <td>0</td>\n",
       "      <td>0</td>\n",
       "      <td>0</td>\n",
       "      <td>0</td>\n",
       "      <td>0</td>\n",
       "      <td>0</td>\n",
       "      <td>...</td>\n",
       "      <td>0</td>\n",
       "      <td>0</td>\n",
       "      <td>0</td>\n",
       "      <td>2</td>\n",
       "      <td>0</td>\n",
       "      <td>0</td>\n",
       "      <td>0</td>\n",
       "      <td>0</td>\n",
       "      <td>0</td>\n",
       "      <td>0</td>\n",
       "    </tr>\n",
       "    <tr>\n",
       "      <th>19246</th>\n",
       "      <td>0</td>\n",
       "      <td>0</td>\n",
       "      <td>0</td>\n",
       "      <td>0</td>\n",
       "      <td>0</td>\n",
       "      <td>0</td>\n",
       "      <td>0</td>\n",
       "      <td>0</td>\n",
       "      <td>0</td>\n",
       "      <td>0</td>\n",
       "      <td>...</td>\n",
       "      <td>0</td>\n",
       "      <td>0</td>\n",
       "      <td>0</td>\n",
       "      <td>0</td>\n",
       "      <td>0</td>\n",
       "      <td>0</td>\n",
       "      <td>0</td>\n",
       "      <td>0</td>\n",
       "      <td>0</td>\n",
       "      <td>0</td>\n",
       "    </tr>\n",
       "  </tbody>\n",
       "</table>\n",
       "<p>19247 rows × 1485 columns</p>\n",
       "</div>"
      ],
      "text/plain": [
       "       00  000  0001  001  005  01  02  03  04  05  ...  y1  y2  ye  year  \\\n",
       "0       0    0     0    0    0   0   0   0   0   0  ...   0   0   0     0   \n",
       "1       0    0     0    0    1   0   0   0   0   0  ...   0   0   0     0   \n",
       "2       0    0     0    0    0   0   0   0   0   0  ...   0   0   0     0   \n",
       "3       0    0     0    0    0   0   0   0   0   0  ...   0   0   0     0   \n",
       "4       0    0     0    0    0   0   0   0   0   0  ...   0   0   0     0   \n",
       "...    ..  ...   ...  ...  ...  ..  ..  ..  ..  ..  ...  ..  ..  ..   ...   \n",
       "19242   0    0     0    0    0   0   0   0   0   0  ...   0   0   0     0   \n",
       "19243   0    0     0    0    0   0   0   0   0   0  ...   0   0   0     0   \n",
       "19244   0    0     0    0    0   1   0   0   0   0  ...   0   0   0     0   \n",
       "19245   0    0     0    0    0   0   0   0   0   0  ...   0   0   0     2   \n",
       "19246   0    0     0    0    0   0   0   0   0   0  ...   0   0   0     0   \n",
       "\n",
       "       yet  yi  yield  yt  ytrain  zero  \n",
       "0        0   0      0   0       0     0  \n",
       "1        0   0      0   0       0     0  \n",
       "2        1   0      0   0       0     0  \n",
       "3        0   0      0   0       0     0  \n",
       "4        0   0      0   0       0     0  \n",
       "...    ...  ..    ...  ..     ...   ...  \n",
       "19242    0   0      0   0       0     0  \n",
       "19243    0   0      0   0       0     1  \n",
       "19244    0   0      0   0       0     0  \n",
       "19245    0   0      0   0       0     0  \n",
       "19246    0   0      0   0       0     0  \n",
       "\n",
       "[19247 rows x 1485 columns]"
      ]
     },
     "execution_count": 32,
     "metadata": {},
     "output_type": "execute_result"
    }
   ],
   "source": [
    "train_body = pd.DataFrame(train_body.toarray(), columns=countvec.get_feature_names(), index=train.index)\n",
    "train_body"
   ]
  },
  {
   "cell_type": "code",
   "execution_count": 33,
   "id": "482daf20",
   "metadata": {},
   "outputs": [
    {
     "name": "stdout",
     "output_type": "stream",
     "text": [
      "model      22107\n",
      "use        20995\n",
      "data       18930\n",
      "variabl    13641\n",
      "would      11586\n",
      "           ...  \n",
      "mainli       106\n",
      "wrote        105\n",
      "unclear      104\n",
      "besid        103\n",
      "beginn       102\n",
      "Length: 1485, dtype: int64\n"
     ]
    }
   ],
   "source": [
    "frequencies = train_body.sum().sort_values(ascending=False)\n",
    "print(frequencies[frequencies > 50])"
   ]
  },
  {
   "cell_type": "code",
   "execution_count": 34,
   "id": "7476857d",
   "metadata": {},
   "outputs": [
    {
     "name": "stderr",
     "output_type": "stream",
     "text": [
      "/Users/wonshilraypark/opt/anaconda3/lib/python3.8/site-packages/seaborn/_decorators.py:36: FutureWarning: Pass the following variable as a keyword arg: x. From version 0.12, the only valid positional argument will be `data`, and passing other arguments without an explicit keyword will result in an error or misinterpretation.\n",
      "  warnings.warn(\n"
     ]
    },
    {
     "data": {
      "image/png": "[encoded data removed]",
      "text/plain": [
       "<Figure size 576x432 with 1 Axes>"
      ]
     },
     "metadata": {
      "needs_background": "light"
     },
     "output_type": "display_data"
    }
   ],
   "source": [
    "import seaborn as sns\n",
    "\n",
    "plt.figure(figsize=(8,6))\n",
    "\n",
    "ax = sns.countplot(frequencies)\n",
    "plt.xticks(np.arange(1, 20, step=2), np.arange(1, 20, step=2))\n",
    "\n",
    "# freq = pd.DataFrame(frequencies, columns=['Frequencies']).transpose()\n",
    "# ax = sns.countplot(freq)\n",
    "# ax = sns.distplot(frequencies, bins=len(frequencies))\n",
    "# ax = plt.hist(frequencies[frequencies > 50])\n",
    "\n",
    "plt.xlabel('terms')\n",
    "plt.ylabel(' ')\n",
    "plt.show()"
   ]
  },
  {
   "cell_type": "code",
   "execution_count": 35,
   "id": "66c82c5a",
   "metadata": {},
   "outputs": [
    {
     "data": {
      "text/plain": [
       "model        2943\n",
       "regress      2081\n",
       "use          1875\n",
       "variabl      1763\n",
       "data         1758\n",
       "             ... \n",
       "deal          101\n",
       "similar       101\n",
       "better         98\n",
       "implement      98\n",
       "creat          98\n",
       "Length: 226, dtype: int64"
      ]
     },
     "execution_count": 35,
     "metadata": {},
     "output_type": "execute_result"
    }
   ],
   "source": [
    "countvec1 = CountVectorizer(min_df = 0.005)\n",
    "train_title = countvec1.fit_transform(train_title)\n",
    "\n",
    "train_title = pd.DataFrame(train_title.toarray(), columns=countvec1.get_feature_names(), index=train.index)\n",
    "train_title.sum().sort_values(ascending=False)"
   ]
  },
  {
   "cell_type": "code",
   "execution_count": 36,
   "id": "7eedc0f0",
   "metadata": {},
   "outputs": [
    {
     "data": {
      "text/plain": [
       "regress                                                            79\n",
       "probabl                                                            73\n",
       "hypothesistest                                                     55\n",
       "machinelearn                                                       55\n",
       "machinelearningneuralnetwork                                       43\n",
       "                                                                   ..\n",
       "machinelearningneuralnetworkspythondatatransformationtensorflow     1\n",
       "machinelearningneuralnetworkspythonkera                             1\n",
       "machinelearningneuralnetworkspythonkerasconfusionmatrix             1\n",
       "machinelearningneuralnetworkspythonlargedataadam                    1\n",
       "ztestsubset                                                         1\n",
       "Length: 16090, dtype: int64"
      ]
     },
     "execution_count": 36,
     "metadata": {},
     "output_type": "execute_result"
    }
   ],
   "source": [
    "countvec2 = CountVectorizer()\n",
    "train_tags = countvec2.fit_transform(train_tags)\n",
    "\n",
    "train_tags = pd.DataFrame(train_tags.toarray(), columns=countvec2.get_feature_names(), index=train.index)\n",
    "train_tags.sum().sort_values(ascending=False)"
   ]
  },
  {
   "cell_type": "code",
   "execution_count": 37,
   "id": "76fb7101",
   "metadata": {},
   "outputs": [
    {
     "data": {
      "text/plain": [
       "model        8940\n",
       "use          8755\n",
       "data         8027\n",
       "variabl      5699\n",
       "would        4918\n",
       "             ... \n",
       "surpris        36\n",
       "concret        36\n",
       "motiv          35\n",
       "fundament      35\n",
       "meet           32\n",
       "Length: 1485, dtype: int64"
      ]
     },
     "execution_count": 37,
     "metadata": {},
     "output_type": "execute_result"
    }
   ],
   "source": [
    "test_body = countvec.transform(test_body)\n",
    "test_body = pd.DataFrame(test_body.toarray(), columns=countvec.get_feature_names(), index=test.index)\n",
    "test_body.sum().sort_values(ascending=False)"
   ]
  },
  {
   "cell_type": "code",
   "execution_count": 38,
   "id": "df623e43",
   "metadata": {},
   "outputs": [
    {
     "data": {
      "text/plain": [
       "model      1198\n",
       "regress     866\n",
       "use         838\n",
       "data        791\n",
       "variabl     791\n",
       "           ... \n",
       "better       36\n",
       "variat       33\n",
       "run          33\n",
       "lasso        32\n",
       "would        28\n",
       "Length: 226, dtype: int64"
      ]
     },
     "execution_count": 38,
     "metadata": {},
     "output_type": "execute_result"
    }
   ],
   "source": [
    "test_title = countvec1.transform(test_title)\n",
    "test_title = pd.DataFrame(test_title.toarray(), columns=countvec1.get_feature_names(), index=test.index)\n",
    "test_title.sum().sort_values(ascending=False)"
   ]
  },
  {
   "cell_type": "code",
   "execution_count": 39,
   "id": "eb0ee1ef",
   "metadata": {},
   "outputs": [
    {
     "data": {
      "text/plain": [
       "regress                                                            35\n",
       "probabl                                                            34\n",
       "neuralnetwork                                                      21\n",
       "machinelearningneuralnetwork                                       20\n",
       "hypothesistest                                                     19\n",
       "                                                                   ..\n",
       "machinelearningneuralnetworkspythoncrossvalidationscikitlearn       0\n",
       "machinelearningneuralnetworkspythondatatransformationtensorflow     0\n",
       "machinelearningneuralnetworkspythonkera                             0\n",
       "machinelearningneuralnetworkspythonkerasconfusionmatrix             0\n",
       "ztestsubset                                                         0\n",
       "Length: 16090, dtype: int64"
      ]
     },
     "execution_count": 39,
     "metadata": {},
     "output_type": "execute_result"
    }
   ],
   "source": [
    "test_tags = countvec2.transform(test_tags)\n",
    "test_tags = pd.DataFrame(test_tags.toarray(), columns=countvec2.get_feature_names(), index=test.index)\n",
    "test_tags.sum().sort_values(ascending=False)"
   ]
  },
  {
   "cell_type": "markdown",
   "id": "1b625b21",
   "metadata": {},
   "source": [
    "v ) Notice that there are words that appear in more than one column. For instance, a\n",
    "question might have the term ‘regression’ in its title, body and tags. However, the terms\n",
    "‘regression’ that appear at the three positions of this post may give different implications\n",
    "about this post. (For example, using ‘regression’ in the title may signal something\n",
    "different than ‘regression’ as a tag.) For this reason, the three types of text data that we\n",
    "are dealing with should be processed independently, and you should use different column\n",
    "names (e.g., regression_title, regression_body, regression_tags)."
   ]
  },
  {
   "cell_type": "code",
   "execution_count": 40,
   "id": "d3054c5e",
   "metadata": {},
   "outputs": [],
   "source": [
    "train_body = train_body.add_suffix('_body')\n",
    "train_title = train_title.add_suffix('_title')\n",
    "train_tags = train_tags.add_suffix('_tags')"
   ]
  },
  {
   "cell_type": "code",
   "execution_count": 41,
   "id": "0e24f375",
   "metadata": {},
   "outputs": [],
   "source": [
    "test_body = test_body.add_suffix('_body')\n",
    "test_title = test_title.add_suffix('_title')\n",
    "test_tags = test_tags.add_suffix('_tags')"
   ]
  },
  {
   "cell_type": "markdown",
   "id": "1199a0df",
   "metadata": {},
   "source": [
    "In part a:\n",
    "1) Basic text cleaning\n",
    "2) Change to lower case --> easier analysis\n",
    "3) Remove Punctuation\n",
    "4) Remove all digits\n",
    "5) Tokenize in order to do certain word-related manipulations\n",
    "6) Remove Stopwords\n",
    "7) Stemming\n",
    "8) Detokenized then created Document-Term Matrix (DTM)"
   ]
  },
  {
   "cell_type": "markdown",
   "id": "f29597af",
   "metadata": {},
   "source": [
    "b) (40 points) Use your analytics skills to build the best model that you can for predicting useful\n",
    "questions. You are free to try whichever approaches you like, but you should try at least four\n",
    "distinct methods that have been discussed in class (e.g., Logistic Regression, LDA, CART,\n",
    "Random Forests, Boosting) and you should evaluate no more than a handful (i.e., 4-10) of\n",
    "candidate models on the test set. For Random Forests and Boosting, it is OK to not cross\n",
    "validate all of the parameters if it takes too much time on your computer – instead you may\n",
    "use some reasonable values of these parameters and/or only cross validate some of them.\n",
    "Report on the details of your training procedures and final comparisons on the test set. Use\n",
    "your best judgment to choose a final model and explain your choice. Use the bootstrap to\n",
    "asses the performance of your single chosen final model in a way that properly reports on the\n",
    "variability of the relevant performance metrics (accuracy, TPR, and FPR)."
   ]
  },
  {
   "cell_type": "code",
   "execution_count": 42,
   "id": "4abeb9b4",
   "metadata": {},
   "outputs": [
    {
     "data": {
      "text/html": [
       "<div>\n",
       "<style scoped>\n",
       "    .dataframe tbody tr th:only-of-type {\n",
       "        vertical-align: middle;\n",
       "    }\n",
       "\n",
       "    .dataframe tbody tr th {\n",
       "        vertical-align: top;\n",
       "    }\n",
       "\n",
       "    .dataframe thead th {\n",
       "        text-align: right;\n",
       "    }\n",
       "</style>\n",
       "<table border=\"1\" class=\"dataframe\">\n",
       "  <thead>\n",
       "    <tr style=\"text-align: right;\">\n",
       "      <th></th>\n",
       "      <th>00_body</th>\n",
       "      <th>000_body</th>\n",
       "      <th>0001_body</th>\n",
       "      <th>001_body</th>\n",
       "      <th>005_body</th>\n",
       "      <th>01_body</th>\n",
       "      <th>02_body</th>\n",
       "      <th>03_body</th>\n",
       "      <th>04_body</th>\n",
       "      <th>05_body</th>\n",
       "      <th>...</th>\n",
       "      <th>wordembeddingsword2vecbagofwordsdoc2vec_tags</th>\n",
       "      <th>zeroinfl_tags</th>\n",
       "      <th>zeroinflationglmmtmb_tags</th>\n",
       "      <th>zeroinflationglmmtmbdispers_tags</th>\n",
       "      <th>zeroinflationpermutationtest_tags</th>\n",
       "      <th>zeroinflationprobit_tags</th>\n",
       "      <th>zipf_tags</th>\n",
       "      <th>zscore_tags</th>\n",
       "      <th>zscoredependentvari_tags</th>\n",
       "      <th>ztestsubset_tags</th>\n",
       "    </tr>\n",
       "  </thead>\n",
       "  <tbody>\n",
       "    <tr>\n",
       "      <th>0</th>\n",
       "      <td>0</td>\n",
       "      <td>0</td>\n",
       "      <td>0</td>\n",
       "      <td>0</td>\n",
       "      <td>0</td>\n",
       "      <td>0</td>\n",
       "      <td>0</td>\n",
       "      <td>0</td>\n",
       "      <td>0</td>\n",
       "      <td>0</td>\n",
       "      <td>...</td>\n",
       "      <td>0</td>\n",
       "      <td>0</td>\n",
       "      <td>0</td>\n",
       "      <td>0</td>\n",
       "      <td>0</td>\n",
       "      <td>0</td>\n",
       "      <td>0</td>\n",
       "      <td>0</td>\n",
       "      <td>0</td>\n",
       "      <td>0</td>\n",
       "    </tr>\n",
       "    <tr>\n",
       "      <th>1</th>\n",
       "      <td>0</td>\n",
       "      <td>0</td>\n",
       "      <td>0</td>\n",
       "      <td>0</td>\n",
       "      <td>1</td>\n",
       "      <td>0</td>\n",
       "      <td>0</td>\n",
       "      <td>0</td>\n",
       "      <td>0</td>\n",
       "      <td>0</td>\n",
       "      <td>...</td>\n",
       "      <td>0</td>\n",
       "      <td>0</td>\n",
       "      <td>0</td>\n",
       "      <td>0</td>\n",
       "      <td>0</td>\n",
       "      <td>0</td>\n",
       "      <td>0</td>\n",
       "      <td>0</td>\n",
       "      <td>0</td>\n",
       "      <td>0</td>\n",
       "    </tr>\n",
       "    <tr>\n",
       "      <th>2</th>\n",
       "      <td>0</td>\n",
       "      <td>0</td>\n",
       "      <td>0</td>\n",
       "      <td>0</td>\n",
       "      <td>0</td>\n",
       "      <td>0</td>\n",
       "      <td>0</td>\n",
       "      <td>0</td>\n",
       "      <td>0</td>\n",
       "      <td>0</td>\n",
       "      <td>...</td>\n",
       "      <td>0</td>\n",
       "      <td>0</td>\n",
       "      <td>0</td>\n",
       "      <td>0</td>\n",
       "      <td>0</td>\n",
       "      <td>0</td>\n",
       "      <td>0</td>\n",
       "      <td>0</td>\n",
       "      <td>0</td>\n",
       "      <td>0</td>\n",
       "    </tr>\n",
       "    <tr>\n",
       "      <th>3</th>\n",
       "      <td>0</td>\n",
       "      <td>0</td>\n",
       "      <td>0</td>\n",
       "      <td>0</td>\n",
       "      <td>0</td>\n",
       "      <td>0</td>\n",
       "      <td>0</td>\n",
       "      <td>0</td>\n",
       "      <td>0</td>\n",
       "      <td>0</td>\n",
       "      <td>...</td>\n",
       "      <td>0</td>\n",
       "      <td>0</td>\n",
       "      <td>0</td>\n",
       "      <td>0</td>\n",
       "      <td>0</td>\n",
       "      <td>0</td>\n",
       "      <td>0</td>\n",
       "      <td>0</td>\n",
       "      <td>0</td>\n",
       "      <td>0</td>\n",
       "    </tr>\n",
       "    <tr>\n",
       "      <th>4</th>\n",
       "      <td>0</td>\n",
       "      <td>0</td>\n",
       "      <td>0</td>\n",
       "      <td>0</td>\n",
       "      <td>0</td>\n",
       "      <td>0</td>\n",
       "      <td>0</td>\n",
       "      <td>0</td>\n",
       "      <td>0</td>\n",
       "      <td>0</td>\n",
       "      <td>...</td>\n",
       "      <td>0</td>\n",
       "      <td>0</td>\n",
       "      <td>0</td>\n",
       "      <td>0</td>\n",
       "      <td>0</td>\n",
       "      <td>0</td>\n",
       "      <td>0</td>\n",
       "      <td>0</td>\n",
       "      <td>0</td>\n",
       "      <td>0</td>\n",
       "    </tr>\n",
       "    <tr>\n",
       "      <th>...</th>\n",
       "      <td>...</td>\n",
       "      <td>...</td>\n",
       "      <td>...</td>\n",
       "      <td>...</td>\n",
       "      <td>...</td>\n",
       "      <td>...</td>\n",
       "      <td>...</td>\n",
       "      <td>...</td>\n",
       "      <td>...</td>\n",
       "      <td>...</td>\n",
       "      <td>...</td>\n",
       "      <td>...</td>\n",
       "      <td>...</td>\n",
       "      <td>...</td>\n",
       "      <td>...</td>\n",
       "      <td>...</td>\n",
       "      <td>...</td>\n",
       "      <td>...</td>\n",
       "      <td>...</td>\n",
       "      <td>...</td>\n",
       "      <td>...</td>\n",
       "    </tr>\n",
       "    <tr>\n",
       "      <th>19242</th>\n",
       "      <td>0</td>\n",
       "      <td>0</td>\n",
       "      <td>0</td>\n",
       "      <td>0</td>\n",
       "      <td>0</td>\n",
       "      <td>0</td>\n",
       "      <td>0</td>\n",
       "      <td>0</td>\n",
       "      <td>0</td>\n",
       "      <td>0</td>\n",
       "      <td>...</td>\n",
       "      <td>0</td>\n",
       "      <td>0</td>\n",
       "      <td>0</td>\n",
       "      <td>0</td>\n",
       "      <td>0</td>\n",
       "      <td>0</td>\n",
       "      <td>0</td>\n",
       "      <td>0</td>\n",
       "      <td>0</td>\n",
       "      <td>0</td>\n",
       "    </tr>\n",
       "    <tr>\n",
       "      <th>19243</th>\n",
       "      <td>0</td>\n",
       "      <td>0</td>\n",
       "      <td>0</td>\n",
       "      <td>0</td>\n",
       "      <td>0</td>\n",
       "      <td>0</td>\n",
       "      <td>0</td>\n",
       "      <td>0</td>\n",
       "      <td>0</td>\n",
       "      <td>0</td>\n",
       "      <td>...</td>\n",
       "      <td>0</td>\n",
       "      <td>0</td>\n",
       "      <td>0</td>\n",
       "      <td>0</td>\n",
       "      <td>0</td>\n",
       "      <td>0</td>\n",
       "      <td>0</td>\n",
       "      <td>0</td>\n",
       "      <td>0</td>\n",
       "      <td>0</td>\n",
       "    </tr>\n",
       "    <tr>\n",
       "      <th>19244</th>\n",
       "      <td>0</td>\n",
       "      <td>0</td>\n",
       "      <td>0</td>\n",
       "      <td>0</td>\n",
       "      <td>0</td>\n",
       "      <td>1</td>\n",
       "      <td>0</td>\n",
       "      <td>0</td>\n",
       "      <td>0</td>\n",
       "      <td>0</td>\n",
       "      <td>...</td>\n",
       "      <td>0</td>\n",
       "      <td>0</td>\n",
       "      <td>0</td>\n",
       "      <td>0</td>\n",
       "      <td>0</td>\n",
       "      <td>0</td>\n",
       "      <td>0</td>\n",
       "      <td>0</td>\n",
       "      <td>0</td>\n",
       "      <td>0</td>\n",
       "    </tr>\n",
       "    <tr>\n",
       "      <th>19245</th>\n",
       "      <td>0</td>\n",
       "      <td>0</td>\n",
       "      <td>0</td>\n",
       "      <td>0</td>\n",
       "      <td>0</td>\n",
       "      <td>0</td>\n",
       "      <td>0</td>\n",
       "      <td>0</td>\n",
       "      <td>0</td>\n",
       "      <td>0</td>\n",
       "      <td>...</td>\n",
       "      <td>0</td>\n",
       "      <td>0</td>\n",
       "      <td>0</td>\n",
       "      <td>0</td>\n",
       "      <td>0</td>\n",
       "      <td>0</td>\n",
       "      <td>0</td>\n",
       "      <td>0</td>\n",
       "      <td>0</td>\n",
       "      <td>0</td>\n",
       "    </tr>\n",
       "    <tr>\n",
       "      <th>19246</th>\n",
       "      <td>0</td>\n",
       "      <td>0</td>\n",
       "      <td>0</td>\n",
       "      <td>0</td>\n",
       "      <td>0</td>\n",
       "      <td>0</td>\n",
       "      <td>0</td>\n",
       "      <td>0</td>\n",
       "      <td>0</td>\n",
       "      <td>0</td>\n",
       "      <td>...</td>\n",
       "      <td>0</td>\n",
       "      <td>0</td>\n",
       "      <td>0</td>\n",
       "      <td>0</td>\n",
       "      <td>0</td>\n",
       "      <td>0</td>\n",
       "      <td>0</td>\n",
       "      <td>0</td>\n",
       "      <td>0</td>\n",
       "      <td>0</td>\n",
       "    </tr>\n",
       "  </tbody>\n",
       "</table>\n",
       "<p>19247 rows × 17801 columns</p>\n",
       "</div>"
      ],
      "text/plain": [
       "       00_body  000_body  0001_body  001_body  005_body  01_body  02_body  \\\n",
       "0            0         0          0         0         0        0        0   \n",
       "1            0         0          0         0         1        0        0   \n",
       "2            0         0          0         0         0        0        0   \n",
       "3            0         0          0         0         0        0        0   \n",
       "4            0         0          0         0         0        0        0   \n",
       "...        ...       ...        ...       ...       ...      ...      ...   \n",
       "19242        0         0          0         0         0        0        0   \n",
       "19243        0         0          0         0         0        0        0   \n",
       "19244        0         0          0         0         0        1        0   \n",
       "19245        0         0          0         0         0        0        0   \n",
       "19246        0         0          0         0         0        0        0   \n",
       "\n",
       "       03_body  04_body  05_body  ...  \\\n",
       "0            0        0        0  ...   \n",
       "1            0        0        0  ...   \n",
       "2            0        0        0  ...   \n",
       "3            0        0        0  ...   \n",
       "4            0        0        0  ...   \n",
       "...        ...      ...      ...  ...   \n",
       "19242        0        0        0  ...   \n",
       "19243        0        0        0  ...   \n",
       "19244        0        0        0  ...   \n",
       "19245        0        0        0  ...   \n",
       "19246        0        0        0  ...   \n",
       "\n",
       "       wordembeddingsword2vecbagofwordsdoc2vec_tags  zeroinfl_tags  \\\n",
       "0                                                 0              0   \n",
       "1                                                 0              0   \n",
       "2                                                 0              0   \n",
       "3                                                 0              0   \n",
       "4                                                 0              0   \n",
       "...                                             ...            ...   \n",
       "19242                                             0              0   \n",
       "19243                                             0              0   \n",
       "19244                                             0              0   \n",
       "19245                                             0              0   \n",
       "19246                                             0              0   \n",
       "\n",
       "       zeroinflationglmmtmb_tags  zeroinflationglmmtmbdispers_tags  \\\n",
       "0                              0                                 0   \n",
       "1                              0                                 0   \n",
       "2                              0                                 0   \n",
       "3                              0                                 0   \n",
       "4                              0                                 0   \n",
       "...                          ...                               ...   \n",
       "19242                          0                                 0   \n",
       "19243                          0                                 0   \n",
       "19244                          0                                 0   \n",
       "19245                          0                                 0   \n",
       "19246                          0                                 0   \n",
       "\n",
       "       zeroinflationpermutationtest_tags  zeroinflationprobit_tags  zipf_tags  \\\n",
       "0                                      0                         0          0   \n",
       "1                                      0                         0          0   \n",
       "2                                      0                         0          0   \n",
       "3                                      0                         0          0   \n",
       "4                                      0                         0          0   \n",
       "...                                  ...                       ...        ...   \n",
       "19242                                  0                         0          0   \n",
       "19243                                  0                         0          0   \n",
       "19244                                  0                         0          0   \n",
       "19245                                  0                         0          0   \n",
       "19246                                  0                         0          0   \n",
       "\n",
       "       zscore_tags  zscoredependentvari_tags  ztestsubset_tags  \n",
       "0                0                         0                 0  \n",
       "1                0                         0                 0  \n",
       "2                0                         0                 0  \n",
       "3                0                         0                 0  \n",
       "4                0                         0                 0  \n",
       "...            ...                       ...               ...  \n",
       "19242            0                         0                 0  \n",
       "19243            0                         0                 0  \n",
       "19244            0                         0                 0  \n",
       "19245            0                         0                 0  \n",
       "19246            0                         0                 0  \n",
       "\n",
       "[19247 rows x 17801 columns]"
      ]
     },
     "execution_count": 42,
     "metadata": {},
     "output_type": "execute_result"
    }
   ],
   "source": [
    "train_concat = pd.concat([train_body, train_title, train_tags], axis = 1)\n",
    "train_concat"
   ]
  },
  {
   "cell_type": "code",
   "execution_count": 43,
   "id": "aee7b753",
   "metadata": {},
   "outputs": [
    {
     "data": {
      "text/html": [
       "<div>\n",
       "<style scoped>\n",
       "    .dataframe tbody tr th:only-of-type {\n",
       "        vertical-align: middle;\n",
       "    }\n",
       "\n",
       "    .dataframe tbody tr th {\n",
       "        vertical-align: top;\n",
       "    }\n",
       "\n",
       "    .dataframe thead th {\n",
       "        text-align: right;\n",
       "    }\n",
       "</style>\n",
       "<table border=\"1\" class=\"dataframe\">\n",
       "  <thead>\n",
       "    <tr style=\"text-align: right;\">\n",
       "      <th></th>\n",
       "      <th>00_body</th>\n",
       "      <th>000_body</th>\n",
       "      <th>0001_body</th>\n",
       "      <th>001_body</th>\n",
       "      <th>005_body</th>\n",
       "      <th>01_body</th>\n",
       "      <th>02_body</th>\n",
       "      <th>03_body</th>\n",
       "      <th>04_body</th>\n",
       "      <th>05_body</th>\n",
       "      <th>...</th>\n",
       "      <th>wordembeddingsword2vecbagofwordsdoc2vec_tags</th>\n",
       "      <th>zeroinfl_tags</th>\n",
       "      <th>zeroinflationglmmtmb_tags</th>\n",
       "      <th>zeroinflationglmmtmbdispers_tags</th>\n",
       "      <th>zeroinflationpermutationtest_tags</th>\n",
       "      <th>zeroinflationprobit_tags</th>\n",
       "      <th>zipf_tags</th>\n",
       "      <th>zscore_tags</th>\n",
       "      <th>zscoredependentvari_tags</th>\n",
       "      <th>ztestsubset_tags</th>\n",
       "    </tr>\n",
       "  </thead>\n",
       "  <tbody>\n",
       "    <tr>\n",
       "      <th>0</th>\n",
       "      <td>0</td>\n",
       "      <td>0</td>\n",
       "      <td>0</td>\n",
       "      <td>0</td>\n",
       "      <td>0</td>\n",
       "      <td>0</td>\n",
       "      <td>0</td>\n",
       "      <td>0</td>\n",
       "      <td>0</td>\n",
       "      <td>0</td>\n",
       "      <td>...</td>\n",
       "      <td>0</td>\n",
       "      <td>0</td>\n",
       "      <td>0</td>\n",
       "      <td>0</td>\n",
       "      <td>0</td>\n",
       "      <td>0</td>\n",
       "      <td>0</td>\n",
       "      <td>0</td>\n",
       "      <td>0</td>\n",
       "      <td>0</td>\n",
       "    </tr>\n",
       "    <tr>\n",
       "      <th>1</th>\n",
       "      <td>0</td>\n",
       "      <td>0</td>\n",
       "      <td>0</td>\n",
       "      <td>0</td>\n",
       "      <td>0</td>\n",
       "      <td>0</td>\n",
       "      <td>0</td>\n",
       "      <td>0</td>\n",
       "      <td>0</td>\n",
       "      <td>0</td>\n",
       "      <td>...</td>\n",
       "      <td>0</td>\n",
       "      <td>0</td>\n",
       "      <td>0</td>\n",
       "      <td>0</td>\n",
       "      <td>0</td>\n",
       "      <td>0</td>\n",
       "      <td>0</td>\n",
       "      <td>0</td>\n",
       "      <td>0</td>\n",
       "      <td>0</td>\n",
       "    </tr>\n",
       "    <tr>\n",
       "      <th>2</th>\n",
       "      <td>0</td>\n",
       "      <td>0</td>\n",
       "      <td>0</td>\n",
       "      <td>0</td>\n",
       "      <td>0</td>\n",
       "      <td>0</td>\n",
       "      <td>0</td>\n",
       "      <td>0</td>\n",
       "      <td>0</td>\n",
       "      <td>0</td>\n",
       "      <td>...</td>\n",
       "      <td>0</td>\n",
       "      <td>0</td>\n",
       "      <td>0</td>\n",
       "      <td>0</td>\n",
       "      <td>0</td>\n",
       "      <td>0</td>\n",
       "      <td>0</td>\n",
       "      <td>0</td>\n",
       "      <td>0</td>\n",
       "      <td>0</td>\n",
       "    </tr>\n",
       "    <tr>\n",
       "      <th>3</th>\n",
       "      <td>0</td>\n",
       "      <td>0</td>\n",
       "      <td>0</td>\n",
       "      <td>0</td>\n",
       "      <td>0</td>\n",
       "      <td>0</td>\n",
       "      <td>0</td>\n",
       "      <td>0</td>\n",
       "      <td>0</td>\n",
       "      <td>0</td>\n",
       "      <td>...</td>\n",
       "      <td>0</td>\n",
       "      <td>0</td>\n",
       "      <td>0</td>\n",
       "      <td>0</td>\n",
       "      <td>0</td>\n",
       "      <td>0</td>\n",
       "      <td>0</td>\n",
       "      <td>0</td>\n",
       "      <td>0</td>\n",
       "      <td>0</td>\n",
       "    </tr>\n",
       "    <tr>\n",
       "      <th>4</th>\n",
       "      <td>0</td>\n",
       "      <td>0</td>\n",
       "      <td>0</td>\n",
       "      <td>0</td>\n",
       "      <td>0</td>\n",
       "      <td>0</td>\n",
       "      <td>0</td>\n",
       "      <td>0</td>\n",
       "      <td>0</td>\n",
       "      <td>0</td>\n",
       "      <td>...</td>\n",
       "      <td>0</td>\n",
       "      <td>0</td>\n",
       "      <td>0</td>\n",
       "      <td>0</td>\n",
       "      <td>0</td>\n",
       "      <td>0</td>\n",
       "      <td>0</td>\n",
       "      <td>0</td>\n",
       "      <td>0</td>\n",
       "      <td>0</td>\n",
       "    </tr>\n",
       "    <tr>\n",
       "      <th>...</th>\n",
       "      <td>...</td>\n",
       "      <td>...</td>\n",
       "      <td>...</td>\n",
       "      <td>...</td>\n",
       "      <td>...</td>\n",
       "      <td>...</td>\n",
       "      <td>...</td>\n",
       "      <td>...</td>\n",
       "      <td>...</td>\n",
       "      <td>...</td>\n",
       "      <td>...</td>\n",
       "      <td>...</td>\n",
       "      <td>...</td>\n",
       "      <td>...</td>\n",
       "      <td>...</td>\n",
       "      <td>...</td>\n",
       "      <td>...</td>\n",
       "      <td>...</td>\n",
       "      <td>...</td>\n",
       "      <td>...</td>\n",
       "      <td>...</td>\n",
       "    </tr>\n",
       "    <tr>\n",
       "      <th>8244</th>\n",
       "      <td>0</td>\n",
       "      <td>0</td>\n",
       "      <td>0</td>\n",
       "      <td>0</td>\n",
       "      <td>0</td>\n",
       "      <td>0</td>\n",
       "      <td>0</td>\n",
       "      <td>0</td>\n",
       "      <td>0</td>\n",
       "      <td>0</td>\n",
       "      <td>...</td>\n",
       "      <td>0</td>\n",
       "      <td>0</td>\n",
       "      <td>0</td>\n",
       "      <td>0</td>\n",
       "      <td>0</td>\n",
       "      <td>0</td>\n",
       "      <td>0</td>\n",
       "      <td>0</td>\n",
       "      <td>0</td>\n",
       "      <td>0</td>\n",
       "    </tr>\n",
       "    <tr>\n",
       "      <th>8245</th>\n",
       "      <td>0</td>\n",
       "      <td>0</td>\n",
       "      <td>0</td>\n",
       "      <td>0</td>\n",
       "      <td>0</td>\n",
       "      <td>0</td>\n",
       "      <td>0</td>\n",
       "      <td>0</td>\n",
       "      <td>0</td>\n",
       "      <td>0</td>\n",
       "      <td>...</td>\n",
       "      <td>0</td>\n",
       "      <td>0</td>\n",
       "      <td>0</td>\n",
       "      <td>0</td>\n",
       "      <td>0</td>\n",
       "      <td>0</td>\n",
       "      <td>0</td>\n",
       "      <td>0</td>\n",
       "      <td>0</td>\n",
       "      <td>0</td>\n",
       "    </tr>\n",
       "    <tr>\n",
       "      <th>8246</th>\n",
       "      <td>0</td>\n",
       "      <td>0</td>\n",
       "      <td>0</td>\n",
       "      <td>0</td>\n",
       "      <td>0</td>\n",
       "      <td>0</td>\n",
       "      <td>0</td>\n",
       "      <td>0</td>\n",
       "      <td>0</td>\n",
       "      <td>0</td>\n",
       "      <td>...</td>\n",
       "      <td>0</td>\n",
       "      <td>0</td>\n",
       "      <td>0</td>\n",
       "      <td>0</td>\n",
       "      <td>0</td>\n",
       "      <td>0</td>\n",
       "      <td>0</td>\n",
       "      <td>0</td>\n",
       "      <td>0</td>\n",
       "      <td>0</td>\n",
       "    </tr>\n",
       "    <tr>\n",
       "      <th>8247</th>\n",
       "      <td>0</td>\n",
       "      <td>0</td>\n",
       "      <td>0</td>\n",
       "      <td>0</td>\n",
       "      <td>0</td>\n",
       "      <td>0</td>\n",
       "      <td>0</td>\n",
       "      <td>0</td>\n",
       "      <td>0</td>\n",
       "      <td>0</td>\n",
       "      <td>...</td>\n",
       "      <td>0</td>\n",
       "      <td>0</td>\n",
       "      <td>0</td>\n",
       "      <td>0</td>\n",
       "      <td>0</td>\n",
       "      <td>0</td>\n",
       "      <td>0</td>\n",
       "      <td>0</td>\n",
       "      <td>0</td>\n",
       "      <td>0</td>\n",
       "    </tr>\n",
       "    <tr>\n",
       "      <th>8248</th>\n",
       "      <td>0</td>\n",
       "      <td>0</td>\n",
       "      <td>0</td>\n",
       "      <td>0</td>\n",
       "      <td>0</td>\n",
       "      <td>0</td>\n",
       "      <td>0</td>\n",
       "      <td>0</td>\n",
       "      <td>0</td>\n",
       "      <td>0</td>\n",
       "      <td>...</td>\n",
       "      <td>0</td>\n",
       "      <td>0</td>\n",
       "      <td>0</td>\n",
       "      <td>0</td>\n",
       "      <td>0</td>\n",
       "      <td>0</td>\n",
       "      <td>0</td>\n",
       "      <td>0</td>\n",
       "      <td>0</td>\n",
       "      <td>0</td>\n",
       "    </tr>\n",
       "  </tbody>\n",
       "</table>\n",
       "<p>8249 rows × 17801 columns</p>\n",
       "</div>"
      ],
      "text/plain": [
       "      00_body  000_body  0001_body  001_body  005_body  01_body  02_body  \\\n",
       "0           0         0          0         0         0        0        0   \n",
       "1           0         0          0         0         0        0        0   \n",
       "2           0         0          0         0         0        0        0   \n",
       "3           0         0          0         0         0        0        0   \n",
       "4           0         0          0         0         0        0        0   \n",
       "...       ...       ...        ...       ...       ...      ...      ...   \n",
       "8244        0         0          0         0         0        0        0   \n",
       "8245        0         0          0         0         0        0        0   \n",
       "8246        0         0          0         0         0        0        0   \n",
       "8247        0         0          0         0         0        0        0   \n",
       "8248        0         0          0         0         0        0        0   \n",
       "\n",
       "      03_body  04_body  05_body  ...  \\\n",
       "0           0        0        0  ...   \n",
       "1           0        0        0  ...   \n",
       "2           0        0        0  ...   \n",
       "3           0        0        0  ...   \n",
       "4           0        0        0  ...   \n",
       "...       ...      ...      ...  ...   \n",
       "8244        0        0        0  ...   \n",
       "8245        0        0        0  ...   \n",
       "8246        0        0        0  ...   \n",
       "8247        0        0        0  ...   \n",
       "8248        0        0        0  ...   \n",
       "\n",
       "      wordembeddingsword2vecbagofwordsdoc2vec_tags  zeroinfl_tags  \\\n",
       "0                                                0              0   \n",
       "1                                                0              0   \n",
       "2                                                0              0   \n",
       "3                                                0              0   \n",
       "4                                                0              0   \n",
       "...                                            ...            ...   \n",
       "8244                                             0              0   \n",
       "8245                                             0              0   \n",
       "8246                                             0              0   \n",
       "8247                                             0              0   \n",
       "8248                                             0              0   \n",
       "\n",
       "      zeroinflationglmmtmb_tags  zeroinflationglmmtmbdispers_tags  \\\n",
       "0                             0                                 0   \n",
       "1                             0                                 0   \n",
       "2                             0                                 0   \n",
       "3                             0                                 0   \n",
       "4                             0                                 0   \n",
       "...                         ...                               ...   \n",
       "8244                          0                                 0   \n",
       "8245                          0                                 0   \n",
       "8246                          0                                 0   \n",
       "8247                          0                                 0   \n",
       "8248                          0                                 0   \n",
       "\n",
       "      zeroinflationpermutationtest_tags  zeroinflationprobit_tags  zipf_tags  \\\n",
       "0                                     0                         0          0   \n",
       "1                                     0                         0          0   \n",
       "2                                     0                         0          0   \n",
       "3                                     0                         0          0   \n",
       "4                                     0                         0          0   \n",
       "...                                 ...                       ...        ...   \n",
       "8244                                  0                         0          0   \n",
       "8245                                  0                         0          0   \n",
       "8246                                  0                         0          0   \n",
       "8247                                  0                         0          0   \n",
       "8248                                  0                         0          0   \n",
       "\n",
       "      zscore_tags  zscoredependentvari_tags  ztestsubset_tags  \n",
       "0               0                         0                 0  \n",
       "1               0                         0                 0  \n",
       "2               0                         0                 0  \n",
       "3               0                         0                 0  \n",
       "4               0                         0                 0  \n",
       "...           ...                       ...               ...  \n",
       "8244            0                         0                 0  \n",
       "8245            0                         0                 0  \n",
       "8246            0                         0                 0  \n",
       "8247            0                         0                 0  \n",
       "8248            0                         0                 0  \n",
       "\n",
       "[8249 rows x 17801 columns]"
      ]
     },
     "execution_count": 43,
     "metadata": {},
     "output_type": "execute_result"
    }
   ],
   "source": [
    "test_concat = pd.concat([test_body, test_title, test_tags], axis = 1)\n",
    "test_concat"
   ]
  },
  {
   "cell_type": "code",
   "execution_count": 44,
   "id": "2d332cb3",
   "metadata": {},
   "outputs": [
    {
     "data": {
      "text/html": [
       "<div>\n",
       "<style scoped>\n",
       "    .dataframe tbody tr th:only-of-type {\n",
       "        vertical-align: middle;\n",
       "    }\n",
       "\n",
       "    .dataframe tbody tr th {\n",
       "        vertical-align: top;\n",
       "    }\n",
       "\n",
       "    .dataframe thead th {\n",
       "        text-align: right;\n",
       "    }\n",
       "</style>\n",
       "<table border=\"1\" class=\"dataframe\">\n",
       "  <thead>\n",
       "    <tr style=\"text-align: right;\">\n",
       "      <th></th>\n",
       "      <th>Id</th>\n",
       "      <th>Score</th>\n",
       "      <th>Body</th>\n",
       "      <th>Title</th>\n",
       "      <th>Tags</th>\n",
       "      <th>Useful</th>\n",
       "    </tr>\n",
       "  </thead>\n",
       "  <tbody>\n",
       "    <tr>\n",
       "      <th>0</th>\n",
       "      <td>495560</td>\n",
       "      <td>1</td>\n",
       "      <td>&lt;p&gt;I have a set of data that I am transforming...</td>\n",
       "      <td>R: emmeans back tranform clr data using clrInv</td>\n",
       "      <td>&lt;r&gt;&lt;mixed-model&gt;&lt;linear&gt;&lt;lsmeans&gt;</td>\n",
       "      <td>1</td>\n",
       "    </tr>\n",
       "    <tr>\n",
       "      <th>1</th>\n",
       "      <td>489896</td>\n",
       "      <td>0</td>\n",
       "      <td>&lt;p&gt;We are sending a one bit message to someone...</td>\n",
       "      <td>Trying to determine the failure rate of redund...</td>\n",
       "      <td>&lt;probability&gt;&lt;python&gt;</td>\n",
       "      <td>0</td>\n",
       "    </tr>\n",
       "    <tr>\n",
       "      <th>2</th>\n",
       "      <td>497951</td>\n",
       "      <td>2</td>\n",
       "      <td>&lt;p&gt;I am aware that there is a similar post: &lt;a...</td>\n",
       "      <td>How to derive categorical cross entropy update...</td>\n",
       "      <td>&lt;logistic&gt;&lt;cross-entropy&gt;</td>\n",
       "      <td>1</td>\n",
       "    </tr>\n",
       "    <tr>\n",
       "      <th>3</th>\n",
       "      <td>478542</td>\n",
       "      <td>2</td>\n",
       "      <td>&lt;p&gt;I have a Poisson distributed glm where I ha...</td>\n",
       "      <td>Learning more about glm parameters, how to dig...</td>\n",
       "      <td>&lt;generalized-linear-model&gt;&lt;interpretation&gt;</td>\n",
       "      <td>1</td>\n",
       "    </tr>\n",
       "    <tr>\n",
       "      <th>4</th>\n",
       "      <td>458388</td>\n",
       "      <td>0</td>\n",
       "      <td>&lt;p&gt;1) how do i decide which transformation or ...</td>\n",
       "      <td>Is there I guide to decide which transformatio...</td>\n",
       "      <td>&lt;python&gt;&lt;data-transformation&gt;&lt;dataset&gt;&lt;feature...</td>\n",
       "      <td>0</td>\n",
       "    </tr>\n",
       "  </tbody>\n",
       "</table>\n",
       "</div>"
      ],
      "text/plain": [
       "       Id  Score                                               Body  \\\n",
       "0  495560      1  <p>I have a set of data that I am transforming...   \n",
       "1  489896      0  <p>We are sending a one bit message to someone...   \n",
       "2  497951      2  <p>I am aware that there is a similar post: <a...   \n",
       "3  478542      2  <p>I have a Poisson distributed glm where I ha...   \n",
       "4  458388      0  <p>1) how do i decide which transformation or ...   \n",
       "\n",
       "                                               Title  \\\n",
       "0     R: emmeans back tranform clr data using clrInv   \n",
       "1  Trying to determine the failure rate of redund...   \n",
       "2  How to derive categorical cross entropy update...   \n",
       "3  Learning more about glm parameters, how to dig...   \n",
       "4  Is there I guide to decide which transformatio...   \n",
       "\n",
       "                                                Tags Useful  \n",
       "0                  <r><mixed-model><linear><lsmeans>      1  \n",
       "1                              <probability><python>      0  \n",
       "2                          <logistic><cross-entropy>      1  \n",
       "3         <generalized-linear-model><interpretation>      1  \n",
       "4  <python><data-transformation><dataset><feature...      0  "
      ]
     },
     "execution_count": 44,
     "metadata": {},
     "output_type": "execute_result"
    }
   ],
   "source": [
    "train['Useful'] = (train['Score'] >= 1).astype('int32').astype('object')\n",
    "train.head()"
   ]
  },
  {
   "cell_type": "code",
   "execution_count": 45,
   "id": "682c4d26",
   "metadata": {},
   "outputs": [
    {
     "data": {
      "text/html": [
       "<div>\n",
       "<style scoped>\n",
       "    .dataframe tbody tr th:only-of-type {\n",
       "        vertical-align: middle;\n",
       "    }\n",
       "\n",
       "    .dataframe tbody tr th {\n",
       "        vertical-align: top;\n",
       "    }\n",
       "\n",
       "    .dataframe thead th {\n",
       "        text-align: right;\n",
       "    }\n",
       "</style>\n",
       "<table border=\"1\" class=\"dataframe\">\n",
       "  <thead>\n",
       "    <tr style=\"text-align: right;\">\n",
       "      <th></th>\n",
       "      <th>Id</th>\n",
       "      <th>Score</th>\n",
       "      <th>Body</th>\n",
       "      <th>Title</th>\n",
       "      <th>Tags</th>\n",
       "      <th>Useful</th>\n",
       "    </tr>\n",
       "  </thead>\n",
       "  <tbody>\n",
       "    <tr>\n",
       "      <th>0</th>\n",
       "      <td>476132</td>\n",
       "      <td>0</td>\n",
       "      <td>&lt;p&gt;&lt;strong&gt;Summarize the problem&lt;/strong&gt;&lt;/p&gt;\\...</td>\n",
       "      <td>What I do with the results extracted from lasso?</td>\n",
       "      <td>&lt;stata&gt;&lt;lasso&gt;</td>\n",
       "      <td>0</td>\n",
       "    </tr>\n",
       "    <tr>\n",
       "      <th>1</th>\n",
       "      <td>450811</td>\n",
       "      <td>0</td>\n",
       "      <td>&lt;p&gt;I try to calculate the marginal likelihood ...</td>\n",
       "      <td>the marginal likelihood of analytical result i...</td>\n",
       "      <td>&lt;sampling&gt;&lt;marginal-distribution&gt;&lt;rstan&gt;</td>\n",
       "      <td>0</td>\n",
       "    </tr>\n",
       "    <tr>\n",
       "      <th>2</th>\n",
       "      <td>472876</td>\n",
       "      <td>1</td>\n",
       "      <td>&lt;p&gt;I have a data set which involves 30 binomia...</td>\n",
       "      <td>GLMER Overdispersion and Error messages</td>\n",
       "      <td>&lt;lme4-nlme&gt;&lt;glmm&gt;&lt;eigenvalues&gt;&lt;overdispersion&gt;</td>\n",
       "      <td>1</td>\n",
       "    </tr>\n",
       "    <tr>\n",
       "      <th>3</th>\n",
       "      <td>470799</td>\n",
       "      <td>1</td>\n",
       "      <td>&lt;p&gt;It is well known that the K-means algorithm...</td>\n",
       "      <td>K-medoids: Is there any constraint about the c...</td>\n",
       "      <td>&lt;clustering&gt;&lt;k-medoids&gt;</td>\n",
       "      <td>1</td>\n",
       "    </tr>\n",
       "    <tr>\n",
       "      <th>4</th>\n",
       "      <td>446472</td>\n",
       "      <td>2</td>\n",
       "      <td>&lt;p&gt;I'm working on a text classification proble...</td>\n",
       "      <td>Combining XGBoost and LightGBM</td>\n",
       "      <td>&lt;python&gt;&lt;boosting&gt;</td>\n",
       "      <td>1</td>\n",
       "    </tr>\n",
       "  </tbody>\n",
       "</table>\n",
       "</div>"
      ],
      "text/plain": [
       "       Id  Score                                               Body  \\\n",
       "0  476132      0  <p><strong>Summarize the problem</strong></p>\\...   \n",
       "1  450811      0  <p>I try to calculate the marginal likelihood ...   \n",
       "2  472876      1  <p>I have a data set which involves 30 binomia...   \n",
       "3  470799      1  <p>It is well known that the K-means algorithm...   \n",
       "4  446472      2  <p>I'm working on a text classification proble...   \n",
       "\n",
       "                                               Title  \\\n",
       "0   What I do with the results extracted from lasso?   \n",
       "1  the marginal likelihood of analytical result i...   \n",
       "2            GLMER Overdispersion and Error messages   \n",
       "3  K-medoids: Is there any constraint about the c...   \n",
       "4                     Combining XGBoost and LightGBM   \n",
       "\n",
       "                                             Tags Useful  \n",
       "0                                  <stata><lasso>      0  \n",
       "1        <sampling><marginal-distribution><rstan>      0  \n",
       "2  <lme4-nlme><glmm><eigenvalues><overdispersion>      1  \n",
       "3                         <clustering><k-medoids>      1  \n",
       "4                              <python><boosting>      1  "
      ]
     },
     "execution_count": 45,
     "metadata": {},
     "output_type": "execute_result"
    }
   ],
   "source": [
    "test['Useful'] = (test['Score'] >= 1).astype('int32').astype('object')\n",
    "test.head()"
   ]
  },
  {
   "cell_type": "code",
   "execution_count": 46,
   "id": "b9a45477",
   "metadata": {},
   "outputs": [
    {
     "data": {
      "text/plain": [
       "(9684, 9563)"
      ]
     },
     "execution_count": 46,
     "metadata": {},
     "output_type": "execute_result"
    }
   ],
   "source": [
    "(train['Useful'] == 0).sum(axis=0), (train['Useful'] == 1).sum(axis=0)"
   ]
  },
  {
   "cell_type": "code",
   "execution_count": 47,
   "id": "db00fa78",
   "metadata": {},
   "outputs": [
    {
     "data": {
      "text/plain": [
       "(4226, 4023)"
      ]
     },
     "execution_count": 47,
     "metadata": {},
     "output_type": "execute_result"
    }
   ],
   "source": [
    "(test['Useful'] == 0).sum(axis=0), (test['Useful'] == 1).sum(axis=0)"
   ]
  },
  {
   "cell_type": "code",
   "execution_count": 48,
   "id": "b6ba97f4",
   "metadata": {},
   "outputs": [
    {
     "data": {
      "text/plain": [
       "((19247, 17801), (8249, 17801))"
      ]
     },
     "execution_count": 48,
     "metadata": {},
     "output_type": "execute_result"
    }
   ],
   "source": [
    "y_train = pd.DataFrame(train['Useful']).astype('int32').values.ravel()\n",
    "y_test = pd.DataFrame(test['Useful']).astype('int32').values.ravel()\n",
    "X_train = train_concat\n",
    "X_test = test_concat\n",
    "X_train.shape, X_test.shape"
   ]
  },
  {
   "cell_type": "markdown",
   "id": "6bbfe5bb",
   "metadata": {},
   "source": [
    "Logistic Regression"
   ]
  },
  {
   "cell_type": "code",
   "execution_count": 49,
   "id": "f37a38d5",
   "metadata": {},
   "outputs": [
    {
     "data": {
      "text/plain": [
       "LogisticRegression(max_iter=1000, random_state=88)"
      ]
     },
     "execution_count": 49,
     "metadata": {},
     "output_type": "execute_result"
    }
   ],
   "source": [
    "from sklearn.linear_model import LogisticRegression\n",
    "\n",
    "# error message to increase max_iter (default=100)\n",
    "logreg = LogisticRegression(random_state=88, max_iter = 1000)\n",
    "logreg.fit(X_train, y_train)"
   ]
  },
  {
   "cell_type": "code",
   "execution_count": 50,
   "id": "a9cef887",
   "metadata": {},
   "outputs": [
    {
     "name": "stdout",
     "output_type": "stream",
     "text": [
      "\n",
      "Accuracy: 0.5553400412171172\n"
     ]
    }
   ],
   "source": [
    "from sklearn.metrics import accuracy_score\n",
    "y_pred = logreg.predict(X_test)\n",
    "print (\"\\nAccuracy:\", accuracy_score(y_test, y_pred))"
   ]
  },
  {
   "cell_type": "code",
   "execution_count": 51,
   "id": "7c2ba2cb",
   "metadata": {},
   "outputs": [
    {
     "data": {
      "text/plain": [
       "0.5753042226788959"
      ]
     },
     "execution_count": 51,
     "metadata": {},
     "output_type": "execute_result"
    }
   ],
   "source": [
    "from sklearn.metrics import roc_curve, auc\n",
    "y_prob = logreg.predict_proba(X_test)[:,1]\n",
    "fpr, tpr, _ = roc_curve(y_test, y_prob)\n",
    "roc_auc = auc(fpr, tpr)\n",
    "roc_auc"
   ]
  },
  {
   "cell_type": "markdown",
   "id": "ca2a7b34",
   "metadata": {},
   "source": [
    "Low accuracy could be due to the possibility of having: redundant features, improper splitting of tokens, and model selection most likely"
   ]
  },
  {
   "cell_type": "markdown",
   "id": "f911413b",
   "metadata": {},
   "source": [
    "CART/Decision Tree Classifier w/ CV"
   ]
  },
  {
   "cell_type": "code",
   "execution_count": 56,
   "id": "beea100c",
   "metadata": {},
   "outputs": [],
   "source": [
    "from sklearn.model_selection import GridSearchCV\n",
    "from sklearn.tree import DecisionTreeClassifier\n",
    "\n",
    "grid_values = {'ccp_alpha': np.linspace(0, 0.01, 10)}\n",
    "\n",
    "dtc = DecisionTreeClassifier(random_state=88)\n",
    "dtc_cv = GridSearchCV(dtc, param_grid=grid_values, cv=2).fit(X_train, y_train)"
   ]
  },
  {
   "cell_type": "code",
   "execution_count": 57,
   "id": "78f271d9",
   "metadata": {},
   "outputs": [
    {
     "data": {
      "image/png": "[encoded data removed]",
      "text/plain": [
       "<Figure size 576x432 with 1 Axes>"
      ]
     },
     "metadata": {
      "needs_background": "light"
     },
     "output_type": "display_data"
    },
    {
     "name": "stdout",
     "output_type": "stream",
     "text": [
      "Best ccp_alpha {'ccp_alpha': 0.0011111111111111111}\n"
     ]
    }
   ],
   "source": [
    "ccp_alpha = dtc_cv.cv_results_['param_ccp_alpha'].data\n",
    "ACC_scores = dtc_cv.cv_results_['mean_test_score']\n",
    "\n",
    "plt.figure(figsize=(8, 6))\n",
    "plt.xlabel('ccp_alpha', fontsize=16)\n",
    "plt.ylabel('CV Accuracy', fontsize=16)\n",
    "plt.scatter(ccp_alpha, ACC_scores, s=3)\n",
    "plt.plot(ccp_alpha, ACC_scores, linewidth=3)\n",
    "plt.grid(True, which='both')\n",
    "\n",
    "plt.tight_layout()\n",
    "plt.show()\n",
    "\n",
    "print('Best ccp_alpha', dtc_cv.best_params_)"
   ]
  },
  {
   "cell_type": "code",
   "execution_count": 58,
   "id": "2d1153eb",
   "metadata": {},
   "outputs": [
    {
     "name": "stdout",
     "output_type": "stream",
     "text": [
      "Node count = 3\n"
     ]
    },
    {
     "data": {
      "image/png": "[encoded data removed]",
      "text/plain": [
       "<Figure size 432x432 with 1 Axes>"
      ]
     },
     "metadata": {
      "needs_background": "light"
     },
     "output_type": "display_data"
    }
   ],
   "source": [
    "from sklearn.tree import plot_tree\n",
    "\n",
    "print('Node count =', dtc_cv.best_estimator_.tree_.node_count)\n",
    "plt.figure(figsize=(6,6))\n",
    "plot_tree(dtc_cv.best_estimator_, \n",
    "          feature_names=X_train.columns, \n",
    "          class_names=['0','1'], \n",
    "          filled=True,\n",
    "          impurity=False,\n",
    "          fontsize=12) \n",
    "plt.show()"
   ]
  },
  {
   "cell_type": "code",
   "execution_count": 59,
   "id": "96b6b842",
   "metadata": {},
   "outputs": [
    {
     "name": "stdout",
     "output_type": "stream",
     "text": [
      "Confusion Matrix: \n",
      " [[3697  529]\n",
      " [3287  736]]\n",
      "\n",
      "Accuracy: 0.5373984725421264\n"
     ]
    }
   ],
   "source": [
    "from sklearn.metrics import confusion_matrix\n",
    "from sklearn.metrics import accuracy_score\n",
    "\n",
    "y_pred = dtc_cv.predict(X_test)\n",
    "cm = confusion_matrix(y_test, y_pred)\n",
    "print (\"Confusion Matrix: \\n\", cm)\n",
    "print (\"\\nAccuracy:\", accuracy_score(y_test, y_pred))"
   ]
  },
  {
   "cell_type": "markdown",
   "id": "abdc731a",
   "metadata": {},
   "source": [
    "Boosting"
   ]
  },
  {
   "cell_type": "code",
   "execution_count": 65,
   "id": "aed01992",
   "metadata": {},
   "outputs": [
    {
     "name": "stdout",
     "output_type": "stream",
     "text": [
      "time: 204.81 s\n"
     ]
    }
   ],
   "source": [
    "import time\n",
    "from sklearn.ensemble import GradientBoostingClassifier\n",
    "\n",
    "grid_values = {'n_estimators': np.linspace(1, 50, 5, dtype='int32'),  # np.logspace(6, 12, num=7, base=2, dtype='int32'),\n",
    "               'learning_rate': [0.01],\n",
    "               'max_leaf_nodes': np.linspace(2, 10, 8, dtype='int32'),\n",
    "               'max_depth': [10],\n",
    "               'min_samples_leaf': [1],\n",
    "               'random_state': [88]} \n",
    "\n",
    "tic = time.time()\n",
    "\n",
    "gbc = GradientBoostingClassifier(n_estimators = 50, min_samples_leaf = 5, \n",
    "                                 random_state = 88, learning_rate = 0.01, max_leaf_nodes = 10)\n",
    "#gbc_cv = GridSearchCV(gbc, param_grid=grid_values, cv=2)\n",
    "gbc.fit(X_train, y_train)\n",
    "\n",
    "toc = time.time()\n",
    "\n",
    "print('time:', round(toc-tic, 2),'s')"
   ]
  },
  {
   "cell_type": "code",
   "execution_count": 66,
   "id": "5b747d2e",
   "metadata": {},
   "outputs": [
    {
     "data": {
      "text/plain": [
       "{'ccp_alpha': 0.0,\n",
       " 'criterion': 'friedman_mse',\n",
       " 'init': None,\n",
       " 'learning_rate': 0.01,\n",
       " 'loss': 'deviance',\n",
       " 'max_depth': 3,\n",
       " 'max_features': None,\n",
       " 'max_leaf_nodes': 10,\n",
       " 'min_impurity_decrease': 0.0,\n",
       " 'min_impurity_split': None,\n",
       " 'min_samples_leaf': 5,\n",
       " 'min_samples_split': 2,\n",
       " 'min_weight_fraction_leaf': 0.0,\n",
       " 'n_estimators': 50,\n",
       " 'n_iter_no_change': None,\n",
       " 'random_state': 88,\n",
       " 'subsample': 1.0,\n",
       " 'tol': 0.0001,\n",
       " 'validation_fraction': 0.1,\n",
       " 'verbose': 0,\n",
       " 'warm_start': False}"
      ]
     },
     "execution_count": 66,
     "metadata": {},
     "output_type": "execute_result"
    }
   ],
   "source": [
    "gbc.get_params(deep=True)"
   ]
  },
  {
   "cell_type": "code",
   "execution_count": 67,
   "id": "0d0cce03",
   "metadata": {},
   "outputs": [
    {
     "name": "stdout",
     "output_type": "stream",
     "text": [
      "Confusion Matrix: \n",
      " [[3191 1035]\n",
      " [2605 1418]]\n",
      "\n",
      "Accuracy: 0.558734392047521\n"
     ]
    }
   ],
   "source": [
    "y_pred = gbc.predict(X_test)\n",
    "cm = confusion_matrix(y_test, y_pred)\n",
    "print (\"Confusion Matrix: \\n\", cm)\n",
    "print (\"\\nAccuracy:\", accuracy_score(y_test, y_pred))"
   ]
  },
  {
   "cell_type": "markdown",
   "id": "c2720d8e",
   "metadata": {},
   "source": [
    "Random Forest "
   ]
  },
  {
   "cell_type": "code",
   "execution_count": 68,
   "id": "03bed4d2",
   "metadata": {},
   "outputs": [
    {
     "data": {
      "text/plain": [
       "RandomForestClassifier(max_features=5, min_samples_leaf=5, random_state=88)"
      ]
     },
     "execution_count": 68,
     "metadata": {},
     "output_type": "execute_result"
    }
   ],
   "source": [
    "from sklearn.ensemble import RandomForestClassifier\n",
    "\n",
    "rf = RandomForestClassifier(max_features=5, min_samples_leaf=5, n_estimators=100, random_state=88)\n",
    "rf.fit(X_train, y_train)"
   ]
  },
  {
   "cell_type": "code",
   "execution_count": 69,
   "id": "21bef2a7",
   "metadata": {},
   "outputs": [
    {
     "name": "stdout",
     "output_type": "stream",
     "text": [
      "Confusion Matrix: \n",
      " [[4154   72]\n",
      " [3924   99]]\n",
      "\n",
      "Accuracy: 0.5155776457752455\n"
     ]
    }
   ],
   "source": [
    "y_pred = rf.predict(X_test)\n",
    "cm = confusion_matrix(y_test, y_pred)\n",
    "print (\"Confusion Matrix: \\n\", cm)\n",
    "print (\"\\nAccuracy:\", accuracy_score(y_test, y_pred))"
   ]
  },
  {
   "cell_type": "code",
   "execution_count": 70,
   "id": "2cb31332",
   "metadata": {},
   "outputs": [
    {
     "name": "stdout",
     "output_type": "stream",
     "text": [
      "time: 28.05 s\n"
     ]
    }
   ],
   "source": [
    "import time\n",
    "\n",
    "grid_values = {'max_features': np.linspace(1, 100, 5, dtype='int32'),\n",
    "               'min_samples_leaf': [5],\n",
    "               'n_estimators': [100],\n",
    "               'random_state': [88]} \n",
    "\n",
    "tic = time.time()\n",
    "\n",
    "rf = RandomForestClassifier(n_estimators = 50, min_samples_leaf = 5, \n",
    "                                 random_state = 88, max_features = 100) \n",
    "#rf_cv = GridSearchCV(rf, param_grid=grid_values, cv=5)\n",
    "rf.fit(X_train, y_train)\n",
    "\n",
    "toc = time.time()\n",
    "\n",
    "print('time:', round(toc-tic, 2),'s')"
   ]
  },
  {
   "cell_type": "code",
   "execution_count": 71,
   "id": "02eeabfd",
   "metadata": {},
   "outputs": [
    {
     "name": "stdout",
     "output_type": "stream",
     "text": [
      "Confusion Matrix: \n",
      " [[2511 1715]\n",
      " [1835 2188]]\n",
      "\n",
      "Accuracy: 0.5696448054309613\n"
     ]
    }
   ],
   "source": [
    "y_pred = rf.predict(X_test)\n",
    "cm = confusion_matrix(y_test, y_pred)\n",
    "print (\"Confusion Matrix: \\n\", cm)\n",
    "print (\"\\nAccuracy:\", accuracy_score(y_test, y_pred))"
   ]
  },
  {
   "cell_type": "markdown",
   "id": "a1ecaa6c",
   "metadata": {},
   "source": [
    "Random Forest: Accuracy: 0.5696448054309613 (n_estimators = 50);\n",
    "Boosting: Accuracy: 0.558734392047521 (n_estimators = 50);\n",
    "CART/Decision Tree Classifier w/ CV: Accuracy: 0.5373984725421264;\n",
    "Logistic Regression: Accuracy: 0.5553400412171172.\n",
    "\n",
    "Since Random Forest's accuracy is higher than the rest, we would use this model to measure usefulness."
   ]
  },
  {
   "cell_type": "code",
   "execution_count": 72,
   "id": "752e2b57",
   "metadata": {},
   "outputs": [],
   "source": [
    "def OS_R_squared(predictions, y_test,y_train):\n",
    "    SSE = np.sum((y_test-predictions)**2)\n",
    "    SST = np.sum((y_test-np.mean(y_train))**2)\n",
    "    r2 = 1-SSE/SST\n",
    "    return r2\n",
    "\n",
    "def mean_squared_error(predictions, y_test,y_train):\n",
    "    MSE = np.mean((y_test-predictions)**2)\n",
    "    return MSE\n",
    "\n",
    "def mean_absolute_error(predictions, y_test,y_train):\n",
    "    MAE = np.mean(np.abs(y_test-predictions))\n",
    "    return MAE"
   ]
  },
  {
   "cell_type": "code",
   "execution_count": 76,
   "id": "285f4b53",
   "metadata": {},
   "outputs": [],
   "source": [
    "import time\n",
    "\n",
    "def bootstrap_validation(test_data, test_label, train_label, model, metrics_list, sample=500, random_state=66):\n",
    "    tic = time.time()\n",
    "    n_sample = sample\n",
    "    n_metrics = len(metrics_list)\n",
    "    output_array=np.zeros([n_sample, n_metrics])\n",
    "    output_array[:]=np.nan\n",
    "    print(output_array.shape)\n",
    "    for bs_iter in range(n_sample):\n",
    "        bs_index = np.random.choice(test_data.index, len(test_data.index), replace=True)\n",
    "        bs_data = test_data.loc[bs_index]\n",
    "        bs_label = test_label[bs_index]\n",
    "        bs_predicted = model.predict(bs_data)\n",
    "        for metrics_iter in range(n_metrics):\n",
    "            metrics = metrics_list[metrics_iter]\n",
    "            output_array[bs_iter, metrics_iter]=metrics(bs_predicted,bs_label,train_label)\n",
    "#         if bs_iter % 100 == 0:\n",
    "#             print(bs_iter, time.time()-tic)\n",
    "    output_df = pd.DataFrame(output_array)\n",
    "    return output_df"
   ]
  },
  {
   "cell_type": "code",
   "execution_count": 79,
   "id": "1898a6bd",
   "metadata": {},
   "outputs": [
    {
     "name": "stdout",
     "output_type": "stream",
     "text": [
      "(500, 3)\n"
     ]
    }
   ],
   "source": [
    "bs_output = bootstrap_validation(X_test,y_test,y_train,rf,\n",
    "                                 metrics_list=[OS_R_squared, mean_squared_error,mean_absolute_error])"
   ]
  },
  {
   "cell_type": "code",
   "execution_count": 81,
   "id": "44f4972c",
   "metadata": {},
   "outputs": [
    {
     "data": {
      "text/plain": [
       "(-0.15, 0.15)"
      ]
     },
     "execution_count": 81,
     "metadata": {},
     "output_type": "execute_result"
    },
    {
     "data": {
      "image/png": "[encoded data removed]",
      "text/plain": [
       "<Figure size 864x360 with 2 Axes>"
      ]
     },
     "metadata": {
      "needs_background": "light"
     },
     "output_type": "display_data"
    }
   ],
   "source": [
    "test_OSR2 = OS_R_squared(y_pred,y_test,y_train)\n",
    "\n",
    "fig, axs = plt.subplots(ncols=2, figsize=(12,5))\n",
    "axs[0].set_xlabel('Bootstrap OSR2 Estimate', fontsize=16)\n",
    "axs[1].set_xlabel('Boot OSR2 - Test Set OSR2', fontsize=16)\n",
    "axs[0].set_ylabel('Count', fontsize=16)\n",
    "axs[0].hist(bs_output.iloc[:,0], bins=20,edgecolor='green', linewidth=2,color = \"grey\")\n",
    "axs[1].hist(bs_output.iloc[:,0]-test_OSR2, bins=20,edgecolor='green', linewidth=2,color = \"grey\")\n",
    "axs[1].set_xlim([-0.15,0.15])"
   ]
  },
  {
   "cell_type": "markdown",
   "id": "67684846",
   "metadata": {},
   "source": [
    "TPR & FPR"
   ]
  },
  {
   "cell_type": "code",
   "execution_count": 84,
   "id": "458511cf",
   "metadata": {
    "scrolled": true
   },
   "outputs": [
    {
     "name": "stdout",
     "output_type": "stream",
     "text": [
      "Confusion Matrix: \n",
      " [[2511 1715]\n",
      " [1835 2188]]\n"
     ]
    }
   ],
   "source": [
    "y_pred = rf.predict(X_test)\n",
    "cm_baseline = confusion_matrix(y_test, y_pred)\n",
    "print(\"Confusion Matrix: \\n\", cm_baseline)"
   ]
  },
  {
   "cell_type": "code",
   "execution_count": 85,
   "id": "31f67535",
   "metadata": {},
   "outputs": [
    {
     "name": "stdout",
     "output_type": "stream",
     "text": [
      "Accuracy: 0.57\n",
      "TPR: 0.544\n",
      "FPR: 0.406\n"
     ]
    }
   ],
   "source": [
    "accuracy_baseline = (cm_baseline.ravel()[0]+cm_baseline.ravel()[3]) /sum(cm_baseline.ravel()) # (TP+TN)/(TP+FP+TN+FN)\n",
    "TPR_baseline = cm_baseline.ravel()[3] / (cm_baseline.ravel()[3]+cm_baseline.ravel()[2]) # TP/(TP+FN)\n",
    "FPR_baseline = cm_baseline.ravel()[1] / (cm_baseline.ravel()[1]+cm_baseline.ravel()[0]) # FP/(FP+TN)\n",
    "print('Accuracy: ' + str(round(accuracy_baseline, 3)))\n",
    "print('TPR: ' + str(round(TPR_baseline, 3))) # TPR should be 0 because never predict positive class\n",
    "print('FPR: ' + str(round(FPR_baseline, 3))) # FPR should be 0 because never predict positive class"
   ]
  },
  {
   "cell_type": "markdown",
   "id": "70cbceeb",
   "metadata": {},
   "source": [
    "TPR Using Bootstrap"
   ]
  },
  {
   "cell_type": "code",
   "execution_count": 87,
   "id": "9969b194",
   "metadata": {},
   "outputs": [],
   "source": [
    "def bootstrap_tpr(y_pred, y_test,y_train):\n",
    "    cm_baseline = confusion_matrix(y_test, y_pred)\n",
    "    TPR_baseline = cm_baseline.ravel()[3] / (cm_baseline.ravel()[3]+cm_baseline.ravel()[2]) # TP/(TP+FN)\n",
    "    return TPR_baseline"
   ]
  },
  {
   "cell_type": "code",
   "execution_count": 149,
   "id": "a9fcf7b7",
   "metadata": {},
   "outputs": [],
   "source": [
    "def bootstrap_validation_tpr_fpr(test_data, test_label, train_label, model, metrics_list, sample=500, random_state=66):\n",
    "    tic = time.time()\n",
    "    n_sample = sample\n",
    "    #n_metrics = int(metrics_list(y_pred, y_test,y_train))\n",
    "    #output_array= np.zeros([n_sample, n_metrics])\n",
    "    #output_array[:]=np.nan\n",
    "    #print(output_array.shape)\n",
    "    output_array=[]\n",
    "    \n",
    "    for bs_iter in range(n_sample):\n",
    "        bs_index = np.random.choice(test_data.index, len(test_data.index), replace=True)\n",
    "        bs_data = test_data.loc[bs_index]\n",
    "        bs_label = test_label[bs_index]\n",
    "        bs_predicted = model.predict(bs_data)\n",
    "        bs_metrics = metrics_list(bs_predicted,bs_label,train_label)\n",
    "        output_array.append(bs_metrics)\n",
    "#         if bs_iter % 100 == 0:\n",
    "#             print(bs_iter, time.time()-tic)\n",
    "    output_df = pd.DataFrame(output_array)\n",
    "    return output_df"
   ]
  },
  {
   "cell_type": "code",
   "execution_count": 150,
   "id": "83a8071d",
   "metadata": {},
   "outputs": [],
   "source": [
    "bs_output_tpr = bootstrap_validation_tpr_fpr(X_test,y_test,y_train,rf,bootstrap_tpr)"
   ]
  },
  {
   "cell_type": "code",
   "execution_count": 151,
   "id": "cbcc12d3",
   "metadata": {},
   "outputs": [
    {
     "data": {
      "text/html": [
       "<div>\n",
       "<style scoped>\n",
       "    .dataframe tbody tr th:only-of-type {\n",
       "        vertical-align: middle;\n",
       "    }\n",
       "\n",
       "    .dataframe tbody tr th {\n",
       "        vertical-align: top;\n",
       "    }\n",
       "\n",
       "    .dataframe thead th {\n",
       "        text-align: right;\n",
       "    }\n",
       "</style>\n",
       "<table border=\"1\" class=\"dataframe\">\n",
       "  <thead>\n",
       "    <tr style=\"text-align: right;\">\n",
       "      <th></th>\n",
       "      <th>0</th>\n",
       "    </tr>\n",
       "  </thead>\n",
       "  <tbody>\n",
       "    <tr>\n",
       "      <th>0</th>\n",
       "      <td>0.543301</td>\n",
       "    </tr>\n",
       "    <tr>\n",
       "      <th>1</th>\n",
       "      <td>0.543155</td>\n",
       "    </tr>\n",
       "    <tr>\n",
       "      <th>2</th>\n",
       "      <td>0.543363</td>\n",
       "    </tr>\n",
       "    <tr>\n",
       "      <th>3</th>\n",
       "      <td>0.554725</td>\n",
       "    </tr>\n",
       "    <tr>\n",
       "      <th>4</th>\n",
       "      <td>0.545522</td>\n",
       "    </tr>\n",
       "  </tbody>\n",
       "</table>\n",
       "</div>"
      ],
      "text/plain": [
       "          0\n",
       "0  0.543301\n",
       "1  0.543155\n",
       "2  0.543363\n",
       "3  0.554725\n",
       "4  0.545522"
      ]
     },
     "execution_count": 151,
     "metadata": {},
     "output_type": "execute_result"
    }
   ],
   "source": [
    "bs_output_tpr.head()"
   ]
  },
  {
   "cell_type": "markdown",
   "id": "d62f276f",
   "metadata": {},
   "source": [
    "FPR Using Bootstrap"
   ]
  },
  {
   "cell_type": "code",
   "execution_count": 152,
   "id": "bf232eed",
   "metadata": {},
   "outputs": [],
   "source": [
    "def bootstrap_fpr(y_pred, y_test,y_train):\n",
    "    cm_baseline = confusion_matrix(y_test, y_pred)\n",
    "    FPR_baseline = cm_baseline.ravel()[1] / (cm_baseline.ravel()[1]+cm_baseline.ravel()[0]) # FP/(FP+TN)\n",
    "    return FPR_baseline"
   ]
  },
  {
   "cell_type": "code",
   "execution_count": 153,
   "id": "af95efee",
   "metadata": {},
   "outputs": [],
   "source": [
    "bs_output_fpr = bootstrap_validation_tpr_fpr(X_test,y_test,y_train,rf,bootstrap_fpr)"
   ]
  },
  {
   "cell_type": "code",
   "execution_count": 154,
   "id": "7e4660dc",
   "metadata": {},
   "outputs": [
    {
     "data": {
      "text/html": [
       "<div>\n",
       "<style scoped>\n",
       "    .dataframe tbody tr th:only-of-type {\n",
       "        vertical-align: middle;\n",
       "    }\n",
       "\n",
       "    .dataframe tbody tr th {\n",
       "        vertical-align: top;\n",
       "    }\n",
       "\n",
       "    .dataframe thead th {\n",
       "        text-align: right;\n",
       "    }\n",
       "</style>\n",
       "<table border=\"1\" class=\"dataframe\">\n",
       "  <thead>\n",
       "    <tr style=\"text-align: right;\">\n",
       "      <th></th>\n",
       "      <th>0</th>\n",
       "    </tr>\n",
       "  </thead>\n",
       "  <tbody>\n",
       "    <tr>\n",
       "      <th>0</th>\n",
       "      <td>0.403951</td>\n",
       "    </tr>\n",
       "    <tr>\n",
       "      <th>1</th>\n",
       "      <td>0.408125</td>\n",
       "    </tr>\n",
       "    <tr>\n",
       "      <th>2</th>\n",
       "      <td>0.409535</td>\n",
       "    </tr>\n",
       "    <tr>\n",
       "      <th>3</th>\n",
       "      <td>0.410536</td>\n",
       "    </tr>\n",
       "    <tr>\n",
       "      <th>4</th>\n",
       "      <td>0.405616</td>\n",
       "    </tr>\n",
       "  </tbody>\n",
       "</table>\n",
       "</div>"
      ],
      "text/plain": [
       "          0\n",
       "0  0.403951\n",
       "1  0.408125\n",
       "2  0.409535\n",
       "3  0.410536\n",
       "4  0.405616"
      ]
     },
     "execution_count": 154,
     "metadata": {},
     "output_type": "execute_result"
    }
   ],
   "source": [
    "bs_output_fpr.head()"
   ]
  },
  {
   "cell_type": "markdown",
   "id": "ccb2039d",
   "metadata": {},
   "source": [
    "I chose random forest for my final model due to it's accuracy being higher during the model tests and the accuracy baseline is 0.57, while the True Positive Rate is 0.544 and the False Positive Rate is 0.406."
   ]
  },
  {
   "cell_type": "markdown",
   "id": "711bf2ca",
   "metadata": {},
   "source": [
    "c) (30 points) Now, let us consider how Stack Exchange might use your model. In particular,\n",
    "consider the following scenario. When a user navigates to the Cross Validated page, they\n",
    "are automatically presented with the 15 most recently submitted questions, in order of most\n",
    "recent first (this is not necessarily true in reality, but let’s pretend that it is). Suppose that\n",
    "Stack Exchange would like to keep these same 15 most recently submitted questions on this\n",
    "page, but they would like to rearrange the order of the questions so as to show the most\n",
    "useful questions at the top of the page. Suppose further that Stack Exchange believes that\n",
    "most users are extremely impatient and will only pay attention to the single question at the\n",
    "very top of the page, and therefore they would like to maximize the probability that the\n",
    "top question is useful.\n",
    "\n",
    "i ) Think about how to select a model, among many different models, to best accomplish\n",
    "the goal of maximizing the probability that the top question is useful. Comment on\n",
    "the precise criteria that you would use (e.g., “I would select a model with the highest\n",
    "accuracy” or “I would select a model with the highest TPR”, etc.) and note that your\n",
    "answer may involve multiple performance metrics if you wish. Explain your response."
   ]
  },
  {
   "cell_type": "markdown",
   "id": "64ad6b6e",
   "metadata": {},
   "source": [
    "I would select a model with the highest TPR with bootstrap, while also searching for the lowest FPR as a secondary search after finding the accuracy for each model. By modeling the queue and relevancy based on these 2 factors, we are able to recommend the most useful post given that we want more true positives and less false positives. \n",
    "\n",
    "To make it more complicated, we could also search for the accuracy, FPR & TPR of each model and isolate the models that have the highest accuracy and TPR, and lowest FPR. If in the chance this happens, we can bootstrap the models for further validation. "
   ]
  },
  {
   "cell_type": "markdown",
   "id": "12863b0b",
   "metadata": {},
   "source": [
    "ii ) Revisiting the models that you have built in part (b), can you identify a specific model\n",
    "that best accomplishes the goal? (Note that this model may be different from the final\n",
    "model you selected in part (b), and you are allowed to do some re-training in addition to\n",
    "re-evaluating your models.) How much does the model you selected improve upon Stack\n",
    "Exchange’s current approach of showing the most recent posts first (described above)?\n",
    "In particular, use the results of your model on the test set to give a precise numerical\n",
    "estimate of the increase in the probability that the top question is useful. If you like, you\n",
    "may use a back-of-the-envelope “on average” style of analysis as part of your reasoning\n",
    "to answer this question."
   ]
  },
  {
   "cell_type": "markdown",
   "id": "e37324ad",
   "metadata": {},
   "source": [
    "Based on what we did in the project, I think Random Forest best accomplishes the goal since we went through the cycle of finding the accuracy for each model before boostrapping it to find the average accuracy, FPR, and TPR.\n",
    "The baseline accuracy is 0.57 on average for the Random Forest model, while the TPR is 0.544 and FPR is 0.406. While the accuracy and TPR are above the 0.5 standard threshold, and FPR is below, this is a good sign. Thus, the % of usefulness would be on average 57%.\n",
    "\n",
    "Based on the more complicated method I would find the FPR & TPR & baseline accuracy of all the models and see which ones I have to isolate."
   ]
  },
  {
   "cell_type": "code",
   "execution_count": 155,
   "id": "8b42bc9e",
   "metadata": {},
   "outputs": [
    {
     "name": "stdout",
     "output_type": "stream",
     "text": [
      "Confusion Matrix: \n",
      " [[2481 1745]\n",
      " [1923 2100]]\n"
     ]
    }
   ],
   "source": [
    "# we already did Random Forest, so let's find the other model's scores\n",
    "# Logistic Regression\n",
    "y_pred = logreg.predict(X_test)\n",
    "cm_baseline = confusion_matrix(y_test, y_pred)\n",
    "print(\"Confusion Matrix: \\n\", cm_baseline)"
   ]
  },
  {
   "cell_type": "code",
   "execution_count": 156,
   "id": "411471a1",
   "metadata": {},
   "outputs": [
    {
     "name": "stdout",
     "output_type": "stream",
     "text": [
      "Accuracy: 0.555\n",
      "TPR: 0.522\n",
      "FPR: 0.413\n"
     ]
    }
   ],
   "source": [
    "accuracy_baseline = (cm_baseline.ravel()[0]+cm_baseline.ravel()[3]) /sum(cm_baseline.ravel()) # (TP+TN)/(TP+FP+TN+FN)\n",
    "TPR_baseline = cm_baseline.ravel()[3] / (cm_baseline.ravel()[3]+cm_baseline.ravel()[2]) # TP/(TP+FN)\n",
    "FPR_baseline = cm_baseline.ravel()[1] / (cm_baseline.ravel()[1]+cm_baseline.ravel()[0]) # FP/(FP+TN)\n",
    "print('Accuracy: ' + str(round(accuracy_baseline, 3)))\n",
    "print('TPR: ' + str(round(TPR_baseline, 3))) # TPR should be 0 because never predict positive class\n",
    "print('FPR: ' + str(round(FPR_baseline, 3))) # FPR should be 0 because never predict positive class"
   ]
  },
  {
   "cell_type": "code",
   "execution_count": 157,
   "id": "07117406",
   "metadata": {},
   "outputs": [
    {
     "name": "stdout",
     "output_type": "stream",
     "text": [
      "Confusion Matrix: \n",
      " [[3697  529]\n",
      " [3287  736]]\n"
     ]
    }
   ],
   "source": [
    "# CART\n",
    "y_pred = dtc_cv.predict(X_test)\n",
    "cm_baseline = confusion_matrix(y_test, y_pred)\n",
    "print(\"Confusion Matrix: \\n\", cm_baseline)"
   ]
  },
  {
   "cell_type": "code",
   "execution_count": 158,
   "id": "bd6fcf88",
   "metadata": {},
   "outputs": [
    {
     "name": "stdout",
     "output_type": "stream",
     "text": [
      "Accuracy: 0.537\n",
      "TPR: 0.183\n",
      "FPR: 0.125\n"
     ]
    }
   ],
   "source": [
    "accuracy_baseline = (cm_baseline.ravel()[0]+cm_baseline.ravel()[3]) /sum(cm_baseline.ravel()) # (TP+TN)/(TP+FP+TN+FN)\n",
    "TPR_baseline = cm_baseline.ravel()[3] / (cm_baseline.ravel()[3]+cm_baseline.ravel()[2]) # TP/(TP+FN)\n",
    "FPR_baseline = cm_baseline.ravel()[1] / (cm_baseline.ravel()[1]+cm_baseline.ravel()[0]) # FP/(FP+TN)\n",
    "print('Accuracy: ' + str(round(accuracy_baseline, 3)))\n",
    "print('TPR: ' + str(round(TPR_baseline, 3))) # TPR should be 0 because never predict positive class\n",
    "print('FPR: ' + str(round(FPR_baseline, 3))) # FPR should be 0 because never predict positive class"
   ]
  },
  {
   "cell_type": "code",
   "execution_count": 161,
   "id": "381d31fc",
   "metadata": {},
   "outputs": [
    {
     "name": "stdout",
     "output_type": "stream",
     "text": [
      "Confusion Matrix: \n",
      " [[3191 1035]\n",
      " [2605 1418]]\n"
     ]
    }
   ],
   "source": [
    "# Boosting\n",
    "y_pred = gbc.predict(X_test)\n",
    "cm_baseline = confusion_matrix(y_test, y_pred)\n",
    "print(\"Confusion Matrix: \\n\", cm_baseline)"
   ]
  },
  {
   "cell_type": "code",
   "execution_count": 162,
   "id": "83e29454",
   "metadata": {},
   "outputs": [
    {
     "name": "stdout",
     "output_type": "stream",
     "text": [
      "Accuracy: 0.559\n",
      "TPR: 0.352\n",
      "FPR: 0.245\n"
     ]
    }
   ],
   "source": [
    "accuracy_baseline = (cm_baseline.ravel()[0]+cm_baseline.ravel()[3]) /sum(cm_baseline.ravel()) # (TP+TN)/(TP+FP+TN+FN)\n",
    "TPR_baseline = cm_baseline.ravel()[3] / (cm_baseline.ravel()[3]+cm_baseline.ravel()[2]) # TP/(TP+FN)\n",
    "FPR_baseline = cm_baseline.ravel()[1] / (cm_baseline.ravel()[1]+cm_baseline.ravel()[0]) # FP/(FP+TN)\n",
    "print('Accuracy: ' + str(round(accuracy_baseline, 3)))\n",
    "print('TPR: ' + str(round(TPR_baseline, 3))) # TPR should be 0 because never predict positive class\n",
    "print('FPR: ' + str(round(FPR_baseline, 3))) # FPR should be 0 because never predict positive class"
   ]
  },
  {
   "cell_type": "markdown",
   "id": "ed591759",
   "metadata": {},
   "source": [
    "Based on the results, it is clear to see that the Random Forest is the best option in terms of Accuracy and TPR, while the CART model rates the least for FPR. Due to FPR being a more secondary focus, I would stick with the Random Forest to determine relevancy/usefulness.  "
   ]
  }
 ],
 "metadata": {
  "kernelspec": {
   "display_name": "Python 3",
   "language": "python",
   "name": "python3"
  },
  "language_info": {
   "codemirror_mode": {
    "name": "ipython",
    "version": 3
   },
   "file_extension": ".py",
   "mimetype": "text/x-python",
   "name": "python",
   "nbconvert_exporter": "python",
   "pygments_lexer": "ipython3",
   "version": "3.8.8"
  }
 },
 "nbformat": 4,
 "nbformat_minor": 5
}
